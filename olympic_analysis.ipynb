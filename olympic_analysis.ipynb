{
 "cells": [
  {
   "cell_type": "code",
   "execution_count": 52,
   "metadata": {},
   "outputs": [],
   "source": [
    "import numpy as np \n",
    "import pandas as pd "
   ]
  },
  {
   "cell_type": "code",
   "execution_count": 53,
   "metadata": {},
   "outputs": [],
   "source": [
    "df = pd.read_csv('athlete_events.csv')\n",
    "region_df = pd.read_csv('noc_regions.csv')"
   ]
  },
  {
   "cell_type": "code",
   "execution_count": 54,
   "metadata": {},
   "outputs": [
    {
     "data": {
      "text/plain": [
       "(271116, 15)"
      ]
     },
     "execution_count": 54,
     "metadata": {},
     "output_type": "execute_result"
    }
   ],
   "source": [
    "df.shape"
   ]
  },
  {
   "cell_type": "markdown",
   "metadata": {},
   "source": [
    "We don't want data of winter olympics. So we filter it out"
   ]
  },
  {
   "cell_type": "code",
   "execution_count": 55,
   "metadata": {},
   "outputs": [
    {
     "data": {
      "text/plain": [
       "(222552, 15)"
      ]
     },
     "execution_count": 55,
     "metadata": {},
     "output_type": "execute_result"
    }
   ],
   "source": [
    "df = df[df['Season'] == 'Summer']\n",
    "df.shape"
   ]
  },
  {
   "cell_type": "markdown",
   "metadata": {},
   "source": [
    "TASK 1 - MEDAL TALLY COUNTRY WISE \n",
    "\n",
    "1. In athelete file we have NOC and in noc_reigons file, we have corresponding regions mapped with NOC. regions is basically country. \n",
    "2. So we will create a merge of them. -> learn merge - can be asked in interview \n",
    "3. "
   ]
  },
  {
   "cell_type": "code",
   "execution_count": 56,
   "metadata": {},
   "outputs": [],
   "source": [
    "df=  df.merge(region_df,on='NOC', how='left')"
   ]
  },
  {
   "cell_type": "markdown",
   "metadata": {},
   "source": []
  },
  {
   "cell_type": "code",
   "execution_count": 57,
   "metadata": {},
   "outputs": [
    {
     "data": {
      "text/plain": [
       "(206,)"
      ]
     },
     "execution_count": 57,
     "metadata": {},
     "output_type": "execute_result"
    }
   ],
   "source": [
    "df['region'].unique().shape"
   ]
  },
  {
   "cell_type": "markdown",
   "metadata": {},
   "source": [
    "Total 206 countries participated far now "
   ]
  },
  {
   "cell_type": "code",
   "execution_count": 58,
   "metadata": {},
   "outputs": [
    {
     "data": {
      "text/plain": [
       "ID             0\n",
       "Name           0\n",
       "Sex            0\n",
       "Age         9189\n",
       "Height     51857\n",
       "Weight     53854\n",
       "Team           0\n",
       "NOC            0\n",
       "Games          0\n",
       "Year           0\n",
       "Season         0\n",
       "City           0\n",
       "Sport          0\n",
       "Event          0\n",
       "Medal     188464\n",
       "region       370\n",
       "notes     218151\n",
       "dtype: int64"
      ]
     },
     "execution_count": 58,
     "metadata": {},
     "output_type": "execute_result"
    }
   ],
   "source": [
    "df.isnull().sum()\n",
    "# this will give null values ka sum "
   ]
  },
  {
   "cell_type": "code",
   "execution_count": 59,
   "metadata": {},
   "outputs": [
    {
     "data": {
      "text/plain": [
       "np.int64(1385)"
      ]
     },
     "execution_count": 59,
     "metadata": {},
     "output_type": "execute_result"
    }
   ],
   "source": [
    "df.duplicated().sum()"
   ]
  },
  {
   "cell_type": "code",
   "execution_count": 60,
   "metadata": {},
   "outputs": [],
   "source": [
    "df.drop_duplicates(inplace=True)\n",
    "# df.duplicated().sum()"
   ]
  },
  {
   "cell_type": "code",
   "execution_count": 61,
   "metadata": {},
   "outputs": [
    {
     "data": {
      "text/plain": [
       "Medal\n",
       "Gold      11456\n",
       "Bronze    11409\n",
       "Silver    11212\n",
       "Name: count, dtype: int64"
      ]
     },
     "execution_count": 61,
     "metadata": {},
     "output_type": "execute_result"
    }
   ],
   "source": [
    "df['Medal'].value_counts()"
   ]
  },
  {
   "cell_type": "markdown",
   "metadata": {},
   "source": [
    "Medals are writeen in Gold, Silver, Bronze and NaN values. We need to one-hot encode medals ="
   ]
  },
  {
   "cell_type": "code",
   "execution_count": 62,
   "metadata": {},
   "outputs": [
    {
     "data": {
      "text/html": [
       "<div>\n",
       "<style scoped>\n",
       "    .dataframe tbody tr th:only-of-type {\n",
       "        vertical-align: middle;\n",
       "    }\n",
       "\n",
       "    .dataframe tbody tr th {\n",
       "        vertical-align: top;\n",
       "    }\n",
       "\n",
       "    .dataframe thead th {\n",
       "        text-align: right;\n",
       "    }\n",
       "</style>\n",
       "<table border=\"1\" class=\"dataframe\">\n",
       "  <thead>\n",
       "    <tr style=\"text-align: right;\">\n",
       "      <th></th>\n",
       "      <th>Bronze</th>\n",
       "      <th>Gold</th>\n",
       "      <th>Silver</th>\n",
       "    </tr>\n",
       "  </thead>\n",
       "  <tbody>\n",
       "    <tr>\n",
       "      <th>0</th>\n",
       "      <td>False</td>\n",
       "      <td>False</td>\n",
       "      <td>False</td>\n",
       "    </tr>\n",
       "    <tr>\n",
       "      <th>1</th>\n",
       "      <td>False</td>\n",
       "      <td>False</td>\n",
       "      <td>False</td>\n",
       "    </tr>\n",
       "    <tr>\n",
       "      <th>2</th>\n",
       "      <td>False</td>\n",
       "      <td>False</td>\n",
       "      <td>False</td>\n",
       "    </tr>\n",
       "    <tr>\n",
       "      <th>3</th>\n",
       "      <td>False</td>\n",
       "      <td>True</td>\n",
       "      <td>False</td>\n",
       "    </tr>\n",
       "    <tr>\n",
       "      <th>4</th>\n",
       "      <td>False</td>\n",
       "      <td>False</td>\n",
       "      <td>False</td>\n",
       "    </tr>\n",
       "    <tr>\n",
       "      <th>...</th>\n",
       "      <td>...</td>\n",
       "      <td>...</td>\n",
       "      <td>...</td>\n",
       "    </tr>\n",
       "    <tr>\n",
       "      <th>222547</th>\n",
       "      <td>False</td>\n",
       "      <td>False</td>\n",
       "      <td>False</td>\n",
       "    </tr>\n",
       "    <tr>\n",
       "      <th>222548</th>\n",
       "      <td>False</td>\n",
       "      <td>False</td>\n",
       "      <td>False</td>\n",
       "    </tr>\n",
       "    <tr>\n",
       "      <th>222549</th>\n",
       "      <td>False</td>\n",
       "      <td>False</td>\n",
       "      <td>False</td>\n",
       "    </tr>\n",
       "    <tr>\n",
       "      <th>222550</th>\n",
       "      <td>False</td>\n",
       "      <td>False</td>\n",
       "      <td>False</td>\n",
       "    </tr>\n",
       "    <tr>\n",
       "      <th>222551</th>\n",
       "      <td>False</td>\n",
       "      <td>False</td>\n",
       "      <td>False</td>\n",
       "    </tr>\n",
       "  </tbody>\n",
       "</table>\n",
       "<p>221167 rows × 3 columns</p>\n",
       "</div>"
      ],
      "text/plain": [
       "        Bronze   Gold  Silver\n",
       "0        False  False   False\n",
       "1        False  False   False\n",
       "2        False  False   False\n",
       "3        False   True   False\n",
       "4        False  False   False\n",
       "...        ...    ...     ...\n",
       "222547   False  False   False\n",
       "222548   False  False   False\n",
       "222549   False  False   False\n",
       "222550   False  False   False\n",
       "222551   False  False   False\n",
       "\n",
       "[221167 rows x 3 columns]"
      ]
     },
     "execution_count": 62,
     "metadata": {},
     "output_type": "execute_result"
    }
   ],
   "source": [
    "pd.get_dummies(df['Medal'])\n",
    "#pandas.get_dummies() is used for data manipulation. \n",
    "# It converts categorical data into dummy or indicator variables."
   ]
  },
  {
   "cell_type": "code",
   "execution_count": 63,
   "metadata": {},
   "outputs": [
    {
     "data": {
      "text/html": [
       "<div>\n",
       "<style scoped>\n",
       "    .dataframe tbody tr th:only-of-type {\n",
       "        vertical-align: middle;\n",
       "    }\n",
       "\n",
       "    .dataframe tbody tr th {\n",
       "        vertical-align: top;\n",
       "    }\n",
       "\n",
       "    .dataframe thead th {\n",
       "        text-align: right;\n",
       "    }\n",
       "</style>\n",
       "<table border=\"1\" class=\"dataframe\">\n",
       "  <thead>\n",
       "    <tr style=\"text-align: right;\">\n",
       "      <th></th>\n",
       "      <th>ID</th>\n",
       "      <th>Name</th>\n",
       "      <th>Sex</th>\n",
       "      <th>Age</th>\n",
       "      <th>Height</th>\n",
       "      <th>Weight</th>\n",
       "      <th>Team</th>\n",
       "      <th>NOC</th>\n",
       "      <th>Games</th>\n",
       "      <th>Year</th>\n",
       "      <th>Season</th>\n",
       "      <th>City</th>\n",
       "      <th>Sport</th>\n",
       "      <th>Event</th>\n",
       "      <th>Medal</th>\n",
       "      <th>region</th>\n",
       "      <th>notes</th>\n",
       "      <th>Bronze</th>\n",
       "      <th>Gold</th>\n",
       "      <th>Silver</th>\n",
       "    </tr>\n",
       "  </thead>\n",
       "  <tbody>\n",
       "    <tr>\n",
       "      <th>0</th>\n",
       "      <td>1</td>\n",
       "      <td>A Dijiang</td>\n",
       "      <td>M</td>\n",
       "      <td>24.0</td>\n",
       "      <td>180.0</td>\n",
       "      <td>80.0</td>\n",
       "      <td>China</td>\n",
       "      <td>CHN</td>\n",
       "      <td>1992 Summer</td>\n",
       "      <td>1992</td>\n",
       "      <td>Summer</td>\n",
       "      <td>Barcelona</td>\n",
       "      <td>Basketball</td>\n",
       "      <td>Basketball Men's Basketball</td>\n",
       "      <td>NaN</td>\n",
       "      <td>China</td>\n",
       "      <td>NaN</td>\n",
       "      <td>False</td>\n",
       "      <td>False</td>\n",
       "      <td>False</td>\n",
       "    </tr>\n",
       "    <tr>\n",
       "      <th>1</th>\n",
       "      <td>2</td>\n",
       "      <td>A Lamusi</td>\n",
       "      <td>M</td>\n",
       "      <td>23.0</td>\n",
       "      <td>170.0</td>\n",
       "      <td>60.0</td>\n",
       "      <td>China</td>\n",
       "      <td>CHN</td>\n",
       "      <td>2012 Summer</td>\n",
       "      <td>2012</td>\n",
       "      <td>Summer</td>\n",
       "      <td>London</td>\n",
       "      <td>Judo</td>\n",
       "      <td>Judo Men's Extra-Lightweight</td>\n",
       "      <td>NaN</td>\n",
       "      <td>China</td>\n",
       "      <td>NaN</td>\n",
       "      <td>False</td>\n",
       "      <td>False</td>\n",
       "      <td>False</td>\n",
       "    </tr>\n",
       "    <tr>\n",
       "      <th>2</th>\n",
       "      <td>3</td>\n",
       "      <td>Gunnar Nielsen Aaby</td>\n",
       "      <td>M</td>\n",
       "      <td>24.0</td>\n",
       "      <td>NaN</td>\n",
       "      <td>NaN</td>\n",
       "      <td>Denmark</td>\n",
       "      <td>DEN</td>\n",
       "      <td>1920 Summer</td>\n",
       "      <td>1920</td>\n",
       "      <td>Summer</td>\n",
       "      <td>Antwerpen</td>\n",
       "      <td>Football</td>\n",
       "      <td>Football Men's Football</td>\n",
       "      <td>NaN</td>\n",
       "      <td>Denmark</td>\n",
       "      <td>NaN</td>\n",
       "      <td>False</td>\n",
       "      <td>False</td>\n",
       "      <td>False</td>\n",
       "    </tr>\n",
       "    <tr>\n",
       "      <th>3</th>\n",
       "      <td>4</td>\n",
       "      <td>Edgar Lindenau Aabye</td>\n",
       "      <td>M</td>\n",
       "      <td>34.0</td>\n",
       "      <td>NaN</td>\n",
       "      <td>NaN</td>\n",
       "      <td>Denmark/Sweden</td>\n",
       "      <td>DEN</td>\n",
       "      <td>1900 Summer</td>\n",
       "      <td>1900</td>\n",
       "      <td>Summer</td>\n",
       "      <td>Paris</td>\n",
       "      <td>Tug-Of-War</td>\n",
       "      <td>Tug-Of-War Men's Tug-Of-War</td>\n",
       "      <td>Gold</td>\n",
       "      <td>Denmark</td>\n",
       "      <td>NaN</td>\n",
       "      <td>False</td>\n",
       "      <td>True</td>\n",
       "      <td>False</td>\n",
       "    </tr>\n",
       "    <tr>\n",
       "      <th>4</th>\n",
       "      <td>8</td>\n",
       "      <td>Cornelia \"Cor\" Aalten (-Strannood)</td>\n",
       "      <td>F</td>\n",
       "      <td>18.0</td>\n",
       "      <td>168.0</td>\n",
       "      <td>NaN</td>\n",
       "      <td>Netherlands</td>\n",
       "      <td>NED</td>\n",
       "      <td>1932 Summer</td>\n",
       "      <td>1932</td>\n",
       "      <td>Summer</td>\n",
       "      <td>Los Angeles</td>\n",
       "      <td>Athletics</td>\n",
       "      <td>Athletics Women's 100 metres</td>\n",
       "      <td>NaN</td>\n",
       "      <td>Netherlands</td>\n",
       "      <td>NaN</td>\n",
       "      <td>False</td>\n",
       "      <td>False</td>\n",
       "      <td>False</td>\n",
       "    </tr>\n",
       "    <tr>\n",
       "      <th>...</th>\n",
       "      <td>...</td>\n",
       "      <td>...</td>\n",
       "      <td>...</td>\n",
       "      <td>...</td>\n",
       "      <td>...</td>\n",
       "      <td>...</td>\n",
       "      <td>...</td>\n",
       "      <td>...</td>\n",
       "      <td>...</td>\n",
       "      <td>...</td>\n",
       "      <td>...</td>\n",
       "      <td>...</td>\n",
       "      <td>...</td>\n",
       "      <td>...</td>\n",
       "      <td>...</td>\n",
       "      <td>...</td>\n",
       "      <td>...</td>\n",
       "      <td>...</td>\n",
       "      <td>...</td>\n",
       "      <td>...</td>\n",
       "    </tr>\n",
       "    <tr>\n",
       "      <th>222547</th>\n",
       "      <td>135565</td>\n",
       "      <td>Fernando scar Zylberberg</td>\n",
       "      <td>M</td>\n",
       "      <td>27.0</td>\n",
       "      <td>168.0</td>\n",
       "      <td>76.0</td>\n",
       "      <td>Argentina</td>\n",
       "      <td>ARG</td>\n",
       "      <td>2004 Summer</td>\n",
       "      <td>2004</td>\n",
       "      <td>Summer</td>\n",
       "      <td>Athina</td>\n",
       "      <td>Hockey</td>\n",
       "      <td>Hockey Men's Hockey</td>\n",
       "      <td>NaN</td>\n",
       "      <td>Argentina</td>\n",
       "      <td>NaN</td>\n",
       "      <td>False</td>\n",
       "      <td>False</td>\n",
       "      <td>False</td>\n",
       "    </tr>\n",
       "    <tr>\n",
       "      <th>222548</th>\n",
       "      <td>135566</td>\n",
       "      <td>James Francis \"Jim\" Zylker</td>\n",
       "      <td>M</td>\n",
       "      <td>21.0</td>\n",
       "      <td>175.0</td>\n",
       "      <td>75.0</td>\n",
       "      <td>United States</td>\n",
       "      <td>USA</td>\n",
       "      <td>1972 Summer</td>\n",
       "      <td>1972</td>\n",
       "      <td>Summer</td>\n",
       "      <td>Munich</td>\n",
       "      <td>Football</td>\n",
       "      <td>Football Men's Football</td>\n",
       "      <td>NaN</td>\n",
       "      <td>USA</td>\n",
       "      <td>NaN</td>\n",
       "      <td>False</td>\n",
       "      <td>False</td>\n",
       "      <td>False</td>\n",
       "    </tr>\n",
       "    <tr>\n",
       "      <th>222549</th>\n",
       "      <td>135567</td>\n",
       "      <td>Aleksandr Viktorovich Zyuzin</td>\n",
       "      <td>M</td>\n",
       "      <td>24.0</td>\n",
       "      <td>183.0</td>\n",
       "      <td>72.0</td>\n",
       "      <td>Russia</td>\n",
       "      <td>RUS</td>\n",
       "      <td>2000 Summer</td>\n",
       "      <td>2000</td>\n",
       "      <td>Summer</td>\n",
       "      <td>Sydney</td>\n",
       "      <td>Rowing</td>\n",
       "      <td>Rowing Men's Lightweight Coxless Fours</td>\n",
       "      <td>NaN</td>\n",
       "      <td>Russia</td>\n",
       "      <td>NaN</td>\n",
       "      <td>False</td>\n",
       "      <td>False</td>\n",
       "      <td>False</td>\n",
       "    </tr>\n",
       "    <tr>\n",
       "      <th>222550</th>\n",
       "      <td>135567</td>\n",
       "      <td>Aleksandr Viktorovich Zyuzin</td>\n",
       "      <td>M</td>\n",
       "      <td>28.0</td>\n",
       "      <td>183.0</td>\n",
       "      <td>72.0</td>\n",
       "      <td>Russia</td>\n",
       "      <td>RUS</td>\n",
       "      <td>2004 Summer</td>\n",
       "      <td>2004</td>\n",
       "      <td>Summer</td>\n",
       "      <td>Athina</td>\n",
       "      <td>Rowing</td>\n",
       "      <td>Rowing Men's Lightweight Coxless Fours</td>\n",
       "      <td>NaN</td>\n",
       "      <td>Russia</td>\n",
       "      <td>NaN</td>\n",
       "      <td>False</td>\n",
       "      <td>False</td>\n",
       "      <td>False</td>\n",
       "    </tr>\n",
       "    <tr>\n",
       "      <th>222551</th>\n",
       "      <td>135568</td>\n",
       "      <td>Olga Igorevna Zyuzkova</td>\n",
       "      <td>F</td>\n",
       "      <td>33.0</td>\n",
       "      <td>171.0</td>\n",
       "      <td>69.0</td>\n",
       "      <td>Belarus</td>\n",
       "      <td>BLR</td>\n",
       "      <td>2016 Summer</td>\n",
       "      <td>2016</td>\n",
       "      <td>Summer</td>\n",
       "      <td>Rio de Janeiro</td>\n",
       "      <td>Basketball</td>\n",
       "      <td>Basketball Women's Basketball</td>\n",
       "      <td>NaN</td>\n",
       "      <td>Belarus</td>\n",
       "      <td>NaN</td>\n",
       "      <td>False</td>\n",
       "      <td>False</td>\n",
       "      <td>False</td>\n",
       "    </tr>\n",
       "  </tbody>\n",
       "</table>\n",
       "<p>221167 rows × 20 columns</p>\n",
       "</div>"
      ],
      "text/plain": [
       "            ID                                Name Sex   Age  Height  Weight  \\\n",
       "0            1                           A Dijiang   M  24.0   180.0    80.0   \n",
       "1            2                            A Lamusi   M  23.0   170.0    60.0   \n",
       "2            3                 Gunnar Nielsen Aaby   M  24.0     NaN     NaN   \n",
       "3            4                Edgar Lindenau Aabye   M  34.0     NaN     NaN   \n",
       "4            8  Cornelia \"Cor\" Aalten (-Strannood)   F  18.0   168.0     NaN   \n",
       "...        ...                                 ...  ..   ...     ...     ...   \n",
       "222547  135565            Fernando scar Zylberberg   M  27.0   168.0    76.0   \n",
       "222548  135566          James Francis \"Jim\" Zylker   M  21.0   175.0    75.0   \n",
       "222549  135567        Aleksandr Viktorovich Zyuzin   M  24.0   183.0    72.0   \n",
       "222550  135567        Aleksandr Viktorovich Zyuzin   M  28.0   183.0    72.0   \n",
       "222551  135568              Olga Igorevna Zyuzkova   F  33.0   171.0    69.0   \n",
       "\n",
       "                  Team  NOC        Games  Year  Season            City  \\\n",
       "0                China  CHN  1992 Summer  1992  Summer       Barcelona   \n",
       "1                China  CHN  2012 Summer  2012  Summer          London   \n",
       "2              Denmark  DEN  1920 Summer  1920  Summer       Antwerpen   \n",
       "3       Denmark/Sweden  DEN  1900 Summer  1900  Summer           Paris   \n",
       "4          Netherlands  NED  1932 Summer  1932  Summer     Los Angeles   \n",
       "...                ...  ...          ...   ...     ...             ...   \n",
       "222547       Argentina  ARG  2004 Summer  2004  Summer          Athina   \n",
       "222548   United States  USA  1972 Summer  1972  Summer          Munich   \n",
       "222549          Russia  RUS  2000 Summer  2000  Summer          Sydney   \n",
       "222550          Russia  RUS  2004 Summer  2004  Summer          Athina   \n",
       "222551         Belarus  BLR  2016 Summer  2016  Summer  Rio de Janeiro   \n",
       "\n",
       "             Sport                                   Event Medal       region  \\\n",
       "0       Basketball             Basketball Men's Basketball   NaN        China   \n",
       "1             Judo            Judo Men's Extra-Lightweight   NaN        China   \n",
       "2         Football                 Football Men's Football   NaN      Denmark   \n",
       "3       Tug-Of-War             Tug-Of-War Men's Tug-Of-War  Gold      Denmark   \n",
       "4        Athletics            Athletics Women's 100 metres   NaN  Netherlands   \n",
       "...            ...                                     ...   ...          ...   \n",
       "222547      Hockey                     Hockey Men's Hockey   NaN    Argentina   \n",
       "222548    Football                 Football Men's Football   NaN          USA   \n",
       "222549      Rowing  Rowing Men's Lightweight Coxless Fours   NaN       Russia   \n",
       "222550      Rowing  Rowing Men's Lightweight Coxless Fours   NaN       Russia   \n",
       "222551  Basketball           Basketball Women's Basketball   NaN      Belarus   \n",
       "\n",
       "       notes  Bronze   Gold  Silver  \n",
       "0        NaN   False  False   False  \n",
       "1        NaN   False  False   False  \n",
       "2        NaN   False  False   False  \n",
       "3        NaN   False   True   False  \n",
       "4        NaN   False  False   False  \n",
       "...      ...     ...    ...     ...  \n",
       "222547   NaN   False  False   False  \n",
       "222548   NaN   False  False   False  \n",
       "222549   NaN   False  False   False  \n",
       "222550   NaN   False  False   False  \n",
       "222551   NaN   False  False   False  \n",
       "\n",
       "[221167 rows x 20 columns]"
      ]
     },
     "execution_count": 63,
     "metadata": {},
     "output_type": "execute_result"
    }
   ],
   "source": [
    "# now we need to contact main df and df[medal].dummies \n",
    "df = pd.concat([df,pd.get_dummies(df['Medal'])], axis=1)\n",
    "df"
   ]
  },
  {
   "cell_type": "code",
   "execution_count": 64,
   "metadata": {},
   "outputs": [
    {
     "data": {
      "text/html": [
       "<div>\n",
       "<style scoped>\n",
       "    .dataframe tbody tr th:only-of-type {\n",
       "        vertical-align: middle;\n",
       "    }\n",
       "\n",
       "    .dataframe tbody tr th {\n",
       "        vertical-align: top;\n",
       "    }\n",
       "\n",
       "    .dataframe thead th {\n",
       "        text-align: right;\n",
       "    }\n",
       "</style>\n",
       "<table border=\"1\" class=\"dataframe\">\n",
       "  <thead>\n",
       "    <tr style=\"text-align: right;\">\n",
       "      <th></th>\n",
       "      <th>Gold</th>\n",
       "      <th>Silver</th>\n",
       "      <th>Bronze</th>\n",
       "    </tr>\n",
       "    <tr>\n",
       "      <th>NOC</th>\n",
       "      <th></th>\n",
       "      <th></th>\n",
       "      <th></th>\n",
       "    </tr>\n",
       "  </thead>\n",
       "  <tbody>\n",
       "    <tr>\n",
       "      <th>USA</th>\n",
       "      <td>2472</td>\n",
       "      <td>1333</td>\n",
       "      <td>1197</td>\n",
       "    </tr>\n",
       "    <tr>\n",
       "      <th>URS</th>\n",
       "      <td>832</td>\n",
       "      <td>635</td>\n",
       "      <td>596</td>\n",
       "    </tr>\n",
       "    <tr>\n",
       "      <th>GBR</th>\n",
       "      <td>635</td>\n",
       "      <td>729</td>\n",
       "      <td>620</td>\n",
       "    </tr>\n",
       "    <tr>\n",
       "      <th>GER</th>\n",
       "      <td>592</td>\n",
       "      <td>538</td>\n",
       "      <td>649</td>\n",
       "    </tr>\n",
       "    <tr>\n",
       "      <th>ITA</th>\n",
       "      <td>518</td>\n",
       "      <td>474</td>\n",
       "      <td>454</td>\n",
       "    </tr>\n",
       "    <tr>\n",
       "      <th>...</th>\n",
       "      <td>...</td>\n",
       "      <td>...</td>\n",
       "      <td>...</td>\n",
       "    </tr>\n",
       "    <tr>\n",
       "      <th>WIF</th>\n",
       "      <td>0</td>\n",
       "      <td>0</td>\n",
       "      <td>5</td>\n",
       "    </tr>\n",
       "    <tr>\n",
       "      <th>YEM</th>\n",
       "      <td>0</td>\n",
       "      <td>0</td>\n",
       "      <td>0</td>\n",
       "    </tr>\n",
       "    <tr>\n",
       "      <th>YAR</th>\n",
       "      <td>0</td>\n",
       "      <td>0</td>\n",
       "      <td>0</td>\n",
       "    </tr>\n",
       "    <tr>\n",
       "      <th>YMD</th>\n",
       "      <td>0</td>\n",
       "      <td>0</td>\n",
       "      <td>0</td>\n",
       "    </tr>\n",
       "    <tr>\n",
       "      <th>ZAM</th>\n",
       "      <td>0</td>\n",
       "      <td>1</td>\n",
       "      <td>1</td>\n",
       "    </tr>\n",
       "  </tbody>\n",
       "</table>\n",
       "<p>230 rows × 3 columns</p>\n",
       "</div>"
      ],
      "text/plain": [
       "     Gold  Silver  Bronze\n",
       "NOC                      \n",
       "USA  2472    1333    1197\n",
       "URS   832     635     596\n",
       "GBR   635     729     620\n",
       "GER   592     538     649\n",
       "ITA   518     474     454\n",
       "..    ...     ...     ...\n",
       "WIF     0       0       5\n",
       "YEM     0       0       0\n",
       "YAR     0       0       0\n",
       "YMD     0       0       0\n",
       "ZAM     0       1       1\n",
       "\n",
       "[230 rows x 3 columns]"
      ]
     },
     "execution_count": 64,
     "metadata": {},
     "output_type": "execute_result"
    }
   ],
   "source": [
    "# Grouping by NOC \n",
    "df.groupby('NOC').sum()[['Gold','Silver','Bronze']].sort_values('Gold',ascending=False)"
   ]
  },
  {
   "cell_type": "markdown",
   "metadata": {},
   "source": [
    "We have to remove duplicate rows based on year season city team event medal"
   ]
  },
  {
   "cell_type": "code",
   "execution_count": 65,
   "metadata": {},
   "outputs": [],
   "source": [
    "medal_tally = df.drop_duplicates(subset=['Team','NOC','Games','City','Sport','Event','Medal'])"
   ]
  },
  {
   "cell_type": "code",
   "execution_count": 66,
   "metadata": {},
   "outputs": [],
   "source": [
    "medal_tally = medal_tally.groupby('region').sum()[['Gold','Silver','Bronze']].sort_values('Gold',ascending=False).reset_index()"
   ]
  },
  {
   "cell_type": "code",
   "execution_count": 67,
   "metadata": {},
   "outputs": [],
   "source": [
    "medal_tally['total'] =  + medal_tally['Silver']+ medal_tally['Bronze']"
   ]
  },
  {
   "cell_type": "code",
   "execution_count": 68,
   "metadata": {},
   "outputs": [
    {
     "data": {
      "text/html": [
       "<div>\n",
       "<style scoped>\n",
       "    .dataframe tbody tr th:only-of-type {\n",
       "        vertical-align: middle;\n",
       "    }\n",
       "\n",
       "    .dataframe tbody tr th {\n",
       "        vertical-align: top;\n",
       "    }\n",
       "\n",
       "    .dataframe thead th {\n",
       "        text-align: right;\n",
       "    }\n",
       "</style>\n",
       "<table border=\"1\" class=\"dataframe\">\n",
       "  <thead>\n",
       "    <tr style=\"text-align: right;\">\n",
       "      <th></th>\n",
       "      <th>region</th>\n",
       "      <th>Gold</th>\n",
       "      <th>Silver</th>\n",
       "      <th>Bronze</th>\n",
       "      <th>total</th>\n",
       "    </tr>\n",
       "  </thead>\n",
       "  <tbody>\n",
       "    <tr>\n",
       "      <th>47</th>\n",
       "      <td>India</td>\n",
       "      <td>9</td>\n",
       "      <td>7</td>\n",
       "      <td>12</td>\n",
       "      <td>19</td>\n",
       "    </tr>\n",
       "  </tbody>\n",
       "</table>\n",
       "</div>"
      ],
      "text/plain": [
       "   region  Gold  Silver  Bronze  total\n",
       "47  India     9       7      12     19"
      ]
     },
     "execution_count": 68,
     "metadata": {},
     "output_type": "execute_result"
    }
   ],
   "source": [
    "medal_tally[medal_tally['region'] == 'India']"
   ]
  },
  {
   "cell_type": "code",
   "execution_count": 69,
   "metadata": {},
   "outputs": [],
   "source": [
    "years = df['Year'].unique().tolist()\n",
    "years.sort()"
   ]
  },
  {
   "cell_type": "code",
   "execution_count": 70,
   "metadata": {},
   "outputs": [],
   "source": [
    "years.insert(0,'Overall')"
   ]
  },
  {
   "cell_type": "code",
   "execution_count": 71,
   "metadata": {},
   "outputs": [
    {
     "data": {
      "text/plain": [
       "205"
      ]
     },
     "execution_count": 71,
     "metadata": {},
     "output_type": "execute_result"
    }
   ],
   "source": [
    "country = df['region'].dropna().unique().tolist()\n",
    "country.sort()\n",
    "len(country)\n",
    "# country.sort()"
   ]
  },
  {
   "cell_type": "code",
   "execution_count": 72,
   "metadata": {},
   "outputs": [],
   "source": [
    "country.insert(0,'Overall')"
   ]
  },
  {
   "cell_type": "markdown",
   "metadata": {},
   "source": [
    "NOW WE WANT COUNTRYWISE AND YEARWISE MEDAL TALLY ANALYSIS "
   ]
  },
  {
   "cell_type": "code",
   "execution_count": 73,
   "metadata": {},
   "outputs": [],
   "source": [
    "medal_df = df.drop_duplicates(subset=['Team','NOC','Games','City','Sport','Event','Medal'])\n",
    "# medal_df[medal_df['region'] == 'India']"
   ]
  },
  {
   "cell_type": "code",
   "execution_count": 74,
   "metadata": {},
   "outputs": [],
   "source": [
    "def fetch_medal_tally(year, country): \n",
    "    flag = False\n",
    "    if (year == 'Overall' and country == 'Overall') :\n",
    "        temp = medal_df\n",
    "    elif (year == 'Overall' and country != 'Overall') :\n",
    "        flag = True\n",
    "        temp= medal_df[(medal_df['region'] ==  country)]\n",
    "    elif (year != 'Overall' and country == 'Overall') : \n",
    "        temp= medal_df[medal_df['Year'] ==  int(year)]\n",
    "    elif (year != 'Overall' and country != 'Overall') :\n",
    "       temp = medal_df[(medal_df['Year'] ==  int(year)) & (medal_df['region'] == country)]\n",
    "\n",
    "    if(flag):\n",
    "        x = temp.groupby('Year').sum()[['Gold','Silver','Bronze']].sort_values('Year',ascending=True).reset_index()\n",
    "    else : \n",
    "        x = temp.groupby('region').sum()[['Gold','Silver','Bronze']].sort_values('Gold',ascending=False).reset_index()\n",
    "    \n",
    "    x['total'] = x['Gold'] + x['Silver']+ x['Bronze']\n",
    "\n",
    "    return x"
   ]
  },
  {
   "cell_type": "code",
   "execution_count": 75,
   "metadata": {},
   "outputs": [
    {
     "data": {
      "text/html": [
       "<div>\n",
       "<style scoped>\n",
       "    .dataframe tbody tr th:only-of-type {\n",
       "        vertical-align: middle;\n",
       "    }\n",
       "\n",
       "    .dataframe tbody tr th {\n",
       "        vertical-align: top;\n",
       "    }\n",
       "\n",
       "    .dataframe thead th {\n",
       "        text-align: right;\n",
       "    }\n",
       "</style>\n",
       "<table border=\"1\" class=\"dataframe\">\n",
       "  <thead>\n",
       "    <tr style=\"text-align: right;\">\n",
       "      <th></th>\n",
       "      <th>Year</th>\n",
       "      <th>Gold</th>\n",
       "      <th>Silver</th>\n",
       "      <th>Bronze</th>\n",
       "      <th>total</th>\n",
       "    </tr>\n",
       "  </thead>\n",
       "  <tbody>\n",
       "    <tr>\n",
       "      <th>0</th>\n",
       "      <td>1900</td>\n",
       "      <td>0</td>\n",
       "      <td>2</td>\n",
       "      <td>0</td>\n",
       "      <td>2</td>\n",
       "    </tr>\n",
       "    <tr>\n",
       "      <th>1</th>\n",
       "      <td>1920</td>\n",
       "      <td>0</td>\n",
       "      <td>0</td>\n",
       "      <td>0</td>\n",
       "      <td>0</td>\n",
       "    </tr>\n",
       "    <tr>\n",
       "      <th>2</th>\n",
       "      <td>1924</td>\n",
       "      <td>0</td>\n",
       "      <td>0</td>\n",
       "      <td>0</td>\n",
       "      <td>0</td>\n",
       "    </tr>\n",
       "    <tr>\n",
       "      <th>3</th>\n",
       "      <td>1928</td>\n",
       "      <td>1</td>\n",
       "      <td>0</td>\n",
       "      <td>0</td>\n",
       "      <td>1</td>\n",
       "    </tr>\n",
       "    <tr>\n",
       "      <th>4</th>\n",
       "      <td>1932</td>\n",
       "      <td>1</td>\n",
       "      <td>0</td>\n",
       "      <td>0</td>\n",
       "      <td>1</td>\n",
       "    </tr>\n",
       "    <tr>\n",
       "      <th>5</th>\n",
       "      <td>1936</td>\n",
       "      <td>1</td>\n",
       "      <td>0</td>\n",
       "      <td>0</td>\n",
       "      <td>1</td>\n",
       "    </tr>\n",
       "    <tr>\n",
       "      <th>6</th>\n",
       "      <td>1948</td>\n",
       "      <td>1</td>\n",
       "      <td>0</td>\n",
       "      <td>0</td>\n",
       "      <td>1</td>\n",
       "    </tr>\n",
       "    <tr>\n",
       "      <th>7</th>\n",
       "      <td>1952</td>\n",
       "      <td>1</td>\n",
       "      <td>0</td>\n",
       "      <td>1</td>\n",
       "      <td>2</td>\n",
       "    </tr>\n",
       "    <tr>\n",
       "      <th>8</th>\n",
       "      <td>1956</td>\n",
       "      <td>1</td>\n",
       "      <td>0</td>\n",
       "      <td>0</td>\n",
       "      <td>1</td>\n",
       "    </tr>\n",
       "    <tr>\n",
       "      <th>9</th>\n",
       "      <td>1960</td>\n",
       "      <td>0</td>\n",
       "      <td>1</td>\n",
       "      <td>0</td>\n",
       "      <td>1</td>\n",
       "    </tr>\n",
       "    <tr>\n",
       "      <th>10</th>\n",
       "      <td>1964</td>\n",
       "      <td>1</td>\n",
       "      <td>0</td>\n",
       "      <td>0</td>\n",
       "      <td>1</td>\n",
       "    </tr>\n",
       "    <tr>\n",
       "      <th>11</th>\n",
       "      <td>1968</td>\n",
       "      <td>0</td>\n",
       "      <td>0</td>\n",
       "      <td>1</td>\n",
       "      <td>1</td>\n",
       "    </tr>\n",
       "    <tr>\n",
       "      <th>12</th>\n",
       "      <td>1972</td>\n",
       "      <td>0</td>\n",
       "      <td>0</td>\n",
       "      <td>1</td>\n",
       "      <td>1</td>\n",
       "    </tr>\n",
       "    <tr>\n",
       "      <th>13</th>\n",
       "      <td>1976</td>\n",
       "      <td>0</td>\n",
       "      <td>0</td>\n",
       "      <td>0</td>\n",
       "      <td>0</td>\n",
       "    </tr>\n",
       "    <tr>\n",
       "      <th>14</th>\n",
       "      <td>1980</td>\n",
       "      <td>1</td>\n",
       "      <td>0</td>\n",
       "      <td>0</td>\n",
       "      <td>1</td>\n",
       "    </tr>\n",
       "    <tr>\n",
       "      <th>15</th>\n",
       "      <td>1984</td>\n",
       "      <td>0</td>\n",
       "      <td>0</td>\n",
       "      <td>0</td>\n",
       "      <td>0</td>\n",
       "    </tr>\n",
       "    <tr>\n",
       "      <th>16</th>\n",
       "      <td>1988</td>\n",
       "      <td>0</td>\n",
       "      <td>0</td>\n",
       "      <td>0</td>\n",
       "      <td>0</td>\n",
       "    </tr>\n",
       "    <tr>\n",
       "      <th>17</th>\n",
       "      <td>1992</td>\n",
       "      <td>0</td>\n",
       "      <td>0</td>\n",
       "      <td>0</td>\n",
       "      <td>0</td>\n",
       "    </tr>\n",
       "    <tr>\n",
       "      <th>18</th>\n",
       "      <td>1996</td>\n",
       "      <td>0</td>\n",
       "      <td>0</td>\n",
       "      <td>1</td>\n",
       "      <td>1</td>\n",
       "    </tr>\n",
       "    <tr>\n",
       "      <th>19</th>\n",
       "      <td>2000</td>\n",
       "      <td>0</td>\n",
       "      <td>0</td>\n",
       "      <td>1</td>\n",
       "      <td>1</td>\n",
       "    </tr>\n",
       "    <tr>\n",
       "      <th>20</th>\n",
       "      <td>2004</td>\n",
       "      <td>0</td>\n",
       "      <td>1</td>\n",
       "      <td>0</td>\n",
       "      <td>1</td>\n",
       "    </tr>\n",
       "    <tr>\n",
       "      <th>21</th>\n",
       "      <td>2008</td>\n",
       "      <td>1</td>\n",
       "      <td>0</td>\n",
       "      <td>2</td>\n",
       "      <td>3</td>\n",
       "    </tr>\n",
       "    <tr>\n",
       "      <th>22</th>\n",
       "      <td>2012</td>\n",
       "      <td>0</td>\n",
       "      <td>2</td>\n",
       "      <td>4</td>\n",
       "      <td>6</td>\n",
       "    </tr>\n",
       "    <tr>\n",
       "      <th>23</th>\n",
       "      <td>2016</td>\n",
       "      <td>0</td>\n",
       "      <td>1</td>\n",
       "      <td>1</td>\n",
       "      <td>2</td>\n",
       "    </tr>\n",
       "  </tbody>\n",
       "</table>\n",
       "</div>"
      ],
      "text/plain": [
       "    Year  Gold  Silver  Bronze  total\n",
       "0   1900     0       2       0      2\n",
       "1   1920     0       0       0      0\n",
       "2   1924     0       0       0      0\n",
       "3   1928     1       0       0      1\n",
       "4   1932     1       0       0      1\n",
       "5   1936     1       0       0      1\n",
       "6   1948     1       0       0      1\n",
       "7   1952     1       0       1      2\n",
       "8   1956     1       0       0      1\n",
       "9   1960     0       1       0      1\n",
       "10  1964     1       0       0      1\n",
       "11  1968     0       0       1      1\n",
       "12  1972     0       0       1      1\n",
       "13  1976     0       0       0      0\n",
       "14  1980     1       0       0      1\n",
       "15  1984     0       0       0      0\n",
       "16  1988     0       0       0      0\n",
       "17  1992     0       0       0      0\n",
       "18  1996     0       0       1      1\n",
       "19  2000     0       0       1      1\n",
       "20  2004     0       1       0      1\n",
       "21  2008     1       0       2      3\n",
       "22  2012     0       2       4      6\n",
       "23  2016     0       1       1      2"
      ]
     },
     "execution_count": 75,
     "metadata": {},
     "output_type": "execute_result"
    }
   ],
   "source": [
    "fetch_medal_tally('Overall', 'India')"
   ]
  },
  {
   "cell_type": "markdown",
   "metadata": {},
   "source": [
    "PART 2 : OVERALL ANALYSIS   \n",
    " No. of editions \n",
    " No of cities \n",
    " no of events/sports \n",
    " no. of athelets \n",
    " no. of participating nations \n",
    " "
   ]
  },
  {
   "cell_type": "code",
   "execution_count": 76,
   "metadata": {},
   "outputs": [
    {
     "data": {
      "text/html": [
       "<div>\n",
       "<style scoped>\n",
       "    .dataframe tbody tr th:only-of-type {\n",
       "        vertical-align: middle;\n",
       "    }\n",
       "\n",
       "    .dataframe tbody tr th {\n",
       "        vertical-align: top;\n",
       "    }\n",
       "\n",
       "    .dataframe thead th {\n",
       "        text-align: right;\n",
       "    }\n",
       "</style>\n",
       "<table border=\"1\" class=\"dataframe\">\n",
       "  <thead>\n",
       "    <tr style=\"text-align: right;\">\n",
       "      <th></th>\n",
       "      <th>ID</th>\n",
       "      <th>Name</th>\n",
       "      <th>Sex</th>\n",
       "      <th>Age</th>\n",
       "      <th>Height</th>\n",
       "      <th>Weight</th>\n",
       "      <th>Team</th>\n",
       "      <th>NOC</th>\n",
       "      <th>Games</th>\n",
       "      <th>Year</th>\n",
       "      <th>Season</th>\n",
       "      <th>City</th>\n",
       "      <th>Sport</th>\n",
       "      <th>Event</th>\n",
       "      <th>Medal</th>\n",
       "      <th>region</th>\n",
       "      <th>notes</th>\n",
       "      <th>Bronze</th>\n",
       "      <th>Gold</th>\n",
       "      <th>Silver</th>\n",
       "    </tr>\n",
       "  </thead>\n",
       "  <tbody>\n",
       "    <tr>\n",
       "      <th>0</th>\n",
       "      <td>1</td>\n",
       "      <td>A Dijiang</td>\n",
       "      <td>M</td>\n",
       "      <td>24.0</td>\n",
       "      <td>180.0</td>\n",
       "      <td>80.0</td>\n",
       "      <td>China</td>\n",
       "      <td>CHN</td>\n",
       "      <td>1992 Summer</td>\n",
       "      <td>1992</td>\n",
       "      <td>Summer</td>\n",
       "      <td>Barcelona</td>\n",
       "      <td>Basketball</td>\n",
       "      <td>Basketball Men's Basketball</td>\n",
       "      <td>NaN</td>\n",
       "      <td>China</td>\n",
       "      <td>NaN</td>\n",
       "      <td>False</td>\n",
       "      <td>False</td>\n",
       "      <td>False</td>\n",
       "    </tr>\n",
       "    <tr>\n",
       "      <th>1</th>\n",
       "      <td>2</td>\n",
       "      <td>A Lamusi</td>\n",
       "      <td>M</td>\n",
       "      <td>23.0</td>\n",
       "      <td>170.0</td>\n",
       "      <td>60.0</td>\n",
       "      <td>China</td>\n",
       "      <td>CHN</td>\n",
       "      <td>2012 Summer</td>\n",
       "      <td>2012</td>\n",
       "      <td>Summer</td>\n",
       "      <td>London</td>\n",
       "      <td>Judo</td>\n",
       "      <td>Judo Men's Extra-Lightweight</td>\n",
       "      <td>NaN</td>\n",
       "      <td>China</td>\n",
       "      <td>NaN</td>\n",
       "      <td>False</td>\n",
       "      <td>False</td>\n",
       "      <td>False</td>\n",
       "    </tr>\n",
       "  </tbody>\n",
       "</table>\n",
       "</div>"
      ],
      "text/plain": [
       "   ID       Name Sex   Age  Height  Weight   Team  NOC        Games  Year  \\\n",
       "0   1  A Dijiang   M  24.0   180.0    80.0  China  CHN  1992 Summer  1992   \n",
       "1   2   A Lamusi   M  23.0   170.0    60.0  China  CHN  2012 Summer  2012   \n",
       "\n",
       "   Season       City       Sport                         Event Medal region  \\\n",
       "0  Summer  Barcelona  Basketball   Basketball Men's Basketball   NaN  China   \n",
       "1  Summer     London        Judo  Judo Men's Extra-Lightweight   NaN  China   \n",
       "\n",
       "  notes  Bronze   Gold  Silver  \n",
       "0   NaN   False  False   False  \n",
       "1   NaN   False  False   False  "
      ]
     },
     "execution_count": 76,
     "metadata": {},
     "output_type": "execute_result"
    }
   ],
   "source": [
    "df = df.drop(df[df['Year'] == 1906].index)\n",
    "df['Year'].unique().shape[0]\n",
    "df.head(2)"
   ]
  },
  {
   "cell_type": "code",
   "execution_count": 77,
   "metadata": {},
   "outputs": [
    {
     "data": {
      "text/plain": [
       "52"
      ]
     },
     "execution_count": 77,
     "metadata": {},
     "output_type": "execute_result"
    }
   ],
   "source": [
    "df['Sport'].unique().shape[0]"
   ]
  },
  {
   "cell_type": "code",
   "execution_count": 78,
   "metadata": {},
   "outputs": [
    {
     "data": {
      "text/plain": [
       "23"
      ]
     },
     "execution_count": 78,
     "metadata": {},
     "output_type": "execute_result"
    }
   ],
   "source": [
    "df['City'].unique().shape[0]"
   ]
  },
  {
   "cell_type": "code",
   "execution_count": 79,
   "metadata": {},
   "outputs": [
    {
     "data": {
      "text/plain": [
       "630"
      ]
     },
     "execution_count": 79,
     "metadata": {},
     "output_type": "execute_result"
    }
   ],
   "source": [
    "df['Event'].unique().shape[0]"
   ]
  },
  {
   "cell_type": "code",
   "execution_count": 80,
   "metadata": {},
   "outputs": [
    {
     "data": {
      "text/plain": [
       "115525"
      ]
     },
     "execution_count": 80,
     "metadata": {},
     "output_type": "execute_result"
    }
   ],
   "source": [
    "df['Name'].unique().shape[0]"
   ]
  },
  {
   "cell_type": "code",
   "execution_count": 81,
   "metadata": {},
   "outputs": [],
   "source": [
    "# graph of participanting nations over the year \n",
    "nations_over_time = df.drop_duplicates(subset=['Year','region'])['Year'].value_counts().reset_index().sort_values('Year')\n",
    "nations_over_time.rename(columns={'count': 'No of Countries'},inplace=True)"
   ]
  },
  {
   "cell_type": "code",
   "execution_count": 82,
   "metadata": {},
   "outputs": [
    {
     "data": {
      "application/vnd.plotly.v1+json": {
       "config": {
        "plotlyServerURL": "https://plot.ly"
       },
       "data": [
        {
         "hovertemplate": "Year=%{x}<br>No of Countries=%{y}<extra></extra>",
         "legendgroup": "",
         "line": {
          "color": "#636efa",
          "dash": "solid"
         },
         "marker": {
          "symbol": "circle"
         },
         "mode": "lines",
         "name": "",
         "orientation": "v",
         "showlegend": false,
         "type": "scatter",
         "x": [
          1896,
          1900,
          1904,
          1908,
          1912,
          1920,
          1924,
          1928,
          1932,
          1936,
          1948,
          1952,
          1956,
          1960,
          1964,
          1968,
          1972,
          1976,
          1980,
          1984,
          1988,
          1992,
          1996,
          2000,
          2004,
          2008,
          2012,
          2016
         ],
         "xaxis": "x",
         "y": [
          12,
          31,
          14,
          22,
          29,
          29,
          45,
          46,
          47,
          49,
          59,
          67,
          71,
          83,
          93,
          111,
          120,
          91,
          80,
          139,
          156,
          168,
          196,
          199,
          200,
          202,
          203,
          204
         ],
         "yaxis": "y"
        }
       ],
       "layout": {
        "legend": {
         "tracegroupgap": 0
        },
        "margin": {
         "t": 60
        },
        "template": {
         "data": {
          "bar": [
           {
            "error_x": {
             "color": "#2a3f5f"
            },
            "error_y": {
             "color": "#2a3f5f"
            },
            "marker": {
             "line": {
              "color": "#E5ECF6",
              "width": 0.5
             },
             "pattern": {
              "fillmode": "overlay",
              "size": 10,
              "solidity": 0.2
             }
            },
            "type": "bar"
           }
          ],
          "barpolar": [
           {
            "marker": {
             "line": {
              "color": "#E5ECF6",
              "width": 0.5
             },
             "pattern": {
              "fillmode": "overlay",
              "size": 10,
              "solidity": 0.2
             }
            },
            "type": "barpolar"
           }
          ],
          "carpet": [
           {
            "aaxis": {
             "endlinecolor": "#2a3f5f",
             "gridcolor": "white",
             "linecolor": "white",
             "minorgridcolor": "white",
             "startlinecolor": "#2a3f5f"
            },
            "baxis": {
             "endlinecolor": "#2a3f5f",
             "gridcolor": "white",
             "linecolor": "white",
             "minorgridcolor": "white",
             "startlinecolor": "#2a3f5f"
            },
            "type": "carpet"
           }
          ],
          "choropleth": [
           {
            "colorbar": {
             "outlinewidth": 0,
             "ticks": ""
            },
            "type": "choropleth"
           }
          ],
          "contour": [
           {
            "colorbar": {
             "outlinewidth": 0,
             "ticks": ""
            },
            "colorscale": [
             [
              0,
              "#0d0887"
             ],
             [
              0.1111111111111111,
              "#46039f"
             ],
             [
              0.2222222222222222,
              "#7201a8"
             ],
             [
              0.3333333333333333,
              "#9c179e"
             ],
             [
              0.4444444444444444,
              "#bd3786"
             ],
             [
              0.5555555555555556,
              "#d8576b"
             ],
             [
              0.6666666666666666,
              "#ed7953"
             ],
             [
              0.7777777777777778,
              "#fb9f3a"
             ],
             [
              0.8888888888888888,
              "#fdca26"
             ],
             [
              1,
              "#f0f921"
             ]
            ],
            "type": "contour"
           }
          ],
          "contourcarpet": [
           {
            "colorbar": {
             "outlinewidth": 0,
             "ticks": ""
            },
            "type": "contourcarpet"
           }
          ],
          "heatmap": [
           {
            "colorbar": {
             "outlinewidth": 0,
             "ticks": ""
            },
            "colorscale": [
             [
              0,
              "#0d0887"
             ],
             [
              0.1111111111111111,
              "#46039f"
             ],
             [
              0.2222222222222222,
              "#7201a8"
             ],
             [
              0.3333333333333333,
              "#9c179e"
             ],
             [
              0.4444444444444444,
              "#bd3786"
             ],
             [
              0.5555555555555556,
              "#d8576b"
             ],
             [
              0.6666666666666666,
              "#ed7953"
             ],
             [
              0.7777777777777778,
              "#fb9f3a"
             ],
             [
              0.8888888888888888,
              "#fdca26"
             ],
             [
              1,
              "#f0f921"
             ]
            ],
            "type": "heatmap"
           }
          ],
          "heatmapgl": [
           {
            "colorbar": {
             "outlinewidth": 0,
             "ticks": ""
            },
            "colorscale": [
             [
              0,
              "#0d0887"
             ],
             [
              0.1111111111111111,
              "#46039f"
             ],
             [
              0.2222222222222222,
              "#7201a8"
             ],
             [
              0.3333333333333333,
              "#9c179e"
             ],
             [
              0.4444444444444444,
              "#bd3786"
             ],
             [
              0.5555555555555556,
              "#d8576b"
             ],
             [
              0.6666666666666666,
              "#ed7953"
             ],
             [
              0.7777777777777778,
              "#fb9f3a"
             ],
             [
              0.8888888888888888,
              "#fdca26"
             ],
             [
              1,
              "#f0f921"
             ]
            ],
            "type": "heatmapgl"
           }
          ],
          "histogram": [
           {
            "marker": {
             "pattern": {
              "fillmode": "overlay",
              "size": 10,
              "solidity": 0.2
             }
            },
            "type": "histogram"
           }
          ],
          "histogram2d": [
           {
            "colorbar": {
             "outlinewidth": 0,
             "ticks": ""
            },
            "colorscale": [
             [
              0,
              "#0d0887"
             ],
             [
              0.1111111111111111,
              "#46039f"
             ],
             [
              0.2222222222222222,
              "#7201a8"
             ],
             [
              0.3333333333333333,
              "#9c179e"
             ],
             [
              0.4444444444444444,
              "#bd3786"
             ],
             [
              0.5555555555555556,
              "#d8576b"
             ],
             [
              0.6666666666666666,
              "#ed7953"
             ],
             [
              0.7777777777777778,
              "#fb9f3a"
             ],
             [
              0.8888888888888888,
              "#fdca26"
             ],
             [
              1,
              "#f0f921"
             ]
            ],
            "type": "histogram2d"
           }
          ],
          "histogram2dcontour": [
           {
            "colorbar": {
             "outlinewidth": 0,
             "ticks": ""
            },
            "colorscale": [
             [
              0,
              "#0d0887"
             ],
             [
              0.1111111111111111,
              "#46039f"
             ],
             [
              0.2222222222222222,
              "#7201a8"
             ],
             [
              0.3333333333333333,
              "#9c179e"
             ],
             [
              0.4444444444444444,
              "#bd3786"
             ],
             [
              0.5555555555555556,
              "#d8576b"
             ],
             [
              0.6666666666666666,
              "#ed7953"
             ],
             [
              0.7777777777777778,
              "#fb9f3a"
             ],
             [
              0.8888888888888888,
              "#fdca26"
             ],
             [
              1,
              "#f0f921"
             ]
            ],
            "type": "histogram2dcontour"
           }
          ],
          "mesh3d": [
           {
            "colorbar": {
             "outlinewidth": 0,
             "ticks": ""
            },
            "type": "mesh3d"
           }
          ],
          "parcoords": [
           {
            "line": {
             "colorbar": {
              "outlinewidth": 0,
              "ticks": ""
             }
            },
            "type": "parcoords"
           }
          ],
          "pie": [
           {
            "automargin": true,
            "type": "pie"
           }
          ],
          "scatter": [
           {
            "fillpattern": {
             "fillmode": "overlay",
             "size": 10,
             "solidity": 0.2
            },
            "type": "scatter"
           }
          ],
          "scatter3d": [
           {
            "line": {
             "colorbar": {
              "outlinewidth": 0,
              "ticks": ""
             }
            },
            "marker": {
             "colorbar": {
              "outlinewidth": 0,
              "ticks": ""
             }
            },
            "type": "scatter3d"
           }
          ],
          "scattercarpet": [
           {
            "marker": {
             "colorbar": {
              "outlinewidth": 0,
              "ticks": ""
             }
            },
            "type": "scattercarpet"
           }
          ],
          "scattergeo": [
           {
            "marker": {
             "colorbar": {
              "outlinewidth": 0,
              "ticks": ""
             }
            },
            "type": "scattergeo"
           }
          ],
          "scattergl": [
           {
            "marker": {
             "colorbar": {
              "outlinewidth": 0,
              "ticks": ""
             }
            },
            "type": "scattergl"
           }
          ],
          "scattermapbox": [
           {
            "marker": {
             "colorbar": {
              "outlinewidth": 0,
              "ticks": ""
             }
            },
            "type": "scattermapbox"
           }
          ],
          "scatterpolar": [
           {
            "marker": {
             "colorbar": {
              "outlinewidth": 0,
              "ticks": ""
             }
            },
            "type": "scatterpolar"
           }
          ],
          "scatterpolargl": [
           {
            "marker": {
             "colorbar": {
              "outlinewidth": 0,
              "ticks": ""
             }
            },
            "type": "scatterpolargl"
           }
          ],
          "scatterternary": [
           {
            "marker": {
             "colorbar": {
              "outlinewidth": 0,
              "ticks": ""
             }
            },
            "type": "scatterternary"
           }
          ],
          "surface": [
           {
            "colorbar": {
             "outlinewidth": 0,
             "ticks": ""
            },
            "colorscale": [
             [
              0,
              "#0d0887"
             ],
             [
              0.1111111111111111,
              "#46039f"
             ],
             [
              0.2222222222222222,
              "#7201a8"
             ],
             [
              0.3333333333333333,
              "#9c179e"
             ],
             [
              0.4444444444444444,
              "#bd3786"
             ],
             [
              0.5555555555555556,
              "#d8576b"
             ],
             [
              0.6666666666666666,
              "#ed7953"
             ],
             [
              0.7777777777777778,
              "#fb9f3a"
             ],
             [
              0.8888888888888888,
              "#fdca26"
             ],
             [
              1,
              "#f0f921"
             ]
            ],
            "type": "surface"
           }
          ],
          "table": [
           {
            "cells": {
             "fill": {
              "color": "#EBF0F8"
             },
             "line": {
              "color": "white"
             }
            },
            "header": {
             "fill": {
              "color": "#C8D4E3"
             },
             "line": {
              "color": "white"
             }
            },
            "type": "table"
           }
          ]
         },
         "layout": {
          "annotationdefaults": {
           "arrowcolor": "#2a3f5f",
           "arrowhead": 0,
           "arrowwidth": 1
          },
          "autotypenumbers": "strict",
          "coloraxis": {
           "colorbar": {
            "outlinewidth": 0,
            "ticks": ""
           }
          },
          "colorscale": {
           "diverging": [
            [
             0,
             "#8e0152"
            ],
            [
             0.1,
             "#c51b7d"
            ],
            [
             0.2,
             "#de77ae"
            ],
            [
             0.3,
             "#f1b6da"
            ],
            [
             0.4,
             "#fde0ef"
            ],
            [
             0.5,
             "#f7f7f7"
            ],
            [
             0.6,
             "#e6f5d0"
            ],
            [
             0.7,
             "#b8e186"
            ],
            [
             0.8,
             "#7fbc41"
            ],
            [
             0.9,
             "#4d9221"
            ],
            [
             1,
             "#276419"
            ]
           ],
           "sequential": [
            [
             0,
             "#0d0887"
            ],
            [
             0.1111111111111111,
             "#46039f"
            ],
            [
             0.2222222222222222,
             "#7201a8"
            ],
            [
             0.3333333333333333,
             "#9c179e"
            ],
            [
             0.4444444444444444,
             "#bd3786"
            ],
            [
             0.5555555555555556,
             "#d8576b"
            ],
            [
             0.6666666666666666,
             "#ed7953"
            ],
            [
             0.7777777777777778,
             "#fb9f3a"
            ],
            [
             0.8888888888888888,
             "#fdca26"
            ],
            [
             1,
             "#f0f921"
            ]
           ],
           "sequentialminus": [
            [
             0,
             "#0d0887"
            ],
            [
             0.1111111111111111,
             "#46039f"
            ],
            [
             0.2222222222222222,
             "#7201a8"
            ],
            [
             0.3333333333333333,
             "#9c179e"
            ],
            [
             0.4444444444444444,
             "#bd3786"
            ],
            [
             0.5555555555555556,
             "#d8576b"
            ],
            [
             0.6666666666666666,
             "#ed7953"
            ],
            [
             0.7777777777777778,
             "#fb9f3a"
            ],
            [
             0.8888888888888888,
             "#fdca26"
            ],
            [
             1,
             "#f0f921"
            ]
           ]
          },
          "colorway": [
           "#636efa",
           "#EF553B",
           "#00cc96",
           "#ab63fa",
           "#FFA15A",
           "#19d3f3",
           "#FF6692",
           "#B6E880",
           "#FF97FF",
           "#FECB52"
          ],
          "font": {
           "color": "#2a3f5f"
          },
          "geo": {
           "bgcolor": "white",
           "lakecolor": "white",
           "landcolor": "#E5ECF6",
           "showlakes": true,
           "showland": true,
           "subunitcolor": "white"
          },
          "hoverlabel": {
           "align": "left"
          },
          "hovermode": "closest",
          "mapbox": {
           "style": "light"
          },
          "paper_bgcolor": "white",
          "plot_bgcolor": "#E5ECF6",
          "polar": {
           "angularaxis": {
            "gridcolor": "white",
            "linecolor": "white",
            "ticks": ""
           },
           "bgcolor": "#E5ECF6",
           "radialaxis": {
            "gridcolor": "white",
            "linecolor": "white",
            "ticks": ""
           }
          },
          "scene": {
           "xaxis": {
            "backgroundcolor": "#E5ECF6",
            "gridcolor": "white",
            "gridwidth": 2,
            "linecolor": "white",
            "showbackground": true,
            "ticks": "",
            "zerolinecolor": "white"
           },
           "yaxis": {
            "backgroundcolor": "#E5ECF6",
            "gridcolor": "white",
            "gridwidth": 2,
            "linecolor": "white",
            "showbackground": true,
            "ticks": "",
            "zerolinecolor": "white"
           },
           "zaxis": {
            "backgroundcolor": "#E5ECF6",
            "gridcolor": "white",
            "gridwidth": 2,
            "linecolor": "white",
            "showbackground": true,
            "ticks": "",
            "zerolinecolor": "white"
           }
          },
          "shapedefaults": {
           "line": {
            "color": "#2a3f5f"
           }
          },
          "ternary": {
           "aaxis": {
            "gridcolor": "white",
            "linecolor": "white",
            "ticks": ""
           },
           "baxis": {
            "gridcolor": "white",
            "linecolor": "white",
            "ticks": ""
           },
           "bgcolor": "#E5ECF6",
           "caxis": {
            "gridcolor": "white",
            "linecolor": "white",
            "ticks": ""
           }
          },
          "title": {
           "x": 0.05
          },
          "xaxis": {
           "automargin": true,
           "gridcolor": "white",
           "linecolor": "white",
           "ticks": "",
           "title": {
            "standoff": 15
           },
           "zerolinecolor": "white",
           "zerolinewidth": 2
          },
          "yaxis": {
           "automargin": true,
           "gridcolor": "white",
           "linecolor": "white",
           "ticks": "",
           "title": {
            "standoff": 15
           },
           "zerolinecolor": "white",
           "zerolinewidth": 2
          }
         }
        },
        "xaxis": {
         "anchor": "y",
         "domain": [
          0,
          1
         ],
         "title": {
          "text": "Year"
         }
        },
        "yaxis": {
         "anchor": "x",
         "domain": [
          0,
          1
         ],
         "title": {
          "text": "No of Countries"
         }
        }
       }
      }
     },
     "metadata": {},
     "output_type": "display_data"
    }
   ],
   "source": [
    "import plotly.express as px\n",
    "fig = px.line(nations_over_time, x=\"Year\", y=\"No of Countries\")\n",
    "fig.show()"
   ]
  },
  {
   "cell_type": "code",
   "execution_count": 83,
   "metadata": {},
   "outputs": [
    {
     "data": {
      "text/plain": [
       "<Axes: xlabel='Year', ylabel='Sport'>"
      ]
     },
     "execution_count": 83,
     "metadata": {},
     "output_type": "execute_result"
    },
    {
     "data": {
      "image/png": "[encoded data removed]",
      "text/plain": [
       "<Figure size 2000x2000 with 2 Axes>"
      ]
     },
     "metadata": {},
     "output_type": "display_data"
    }
   ],
   "source": [
    "import seaborn as sns \n",
    "import matplotlib.pyplot as plt\n",
    "x = df.drop_duplicates(['Year','Event', 'Sport'])\n",
    "plt.figure(figsize=(20,20))\n",
    "sns.heatmap(x.pivot_table(index='Sport',columns='Year',values='Event',aggfunc='count').fillna(0).astype('int'), annot= True,cmap = 'viridis')"
   ]
  },
  {
   "cell_type": "code",
   "execution_count": 84,
   "metadata": {},
   "outputs": [],
   "source": [
    "def most_successful(sport,df) :\n",
    "    temp_df = df.dropna(subset=['Medal'])\n",
    "\n",
    "    if sport != 'Overall':\n",
    "        temp_df = temp_df[temp_df['Sport'] == sport]\n",
    "    \n",
    "    temp_df = temp_df['Name'].value_counts().reset_index().head(10).merge(df,left_on ='Name', right_on = 'Name', how ='left')\n",
    "    #extracting important columsn \n",
    "    temp_df = temp_df[['Name','count','region','Sport']]    #drop duplicates \n",
    "    temp_df = temp_df.drop_duplicates('Name').reset_index()\n",
    "    temp_df = temp_df.drop('index', axis = 1)\n",
    "    temp_df.rename(columns = {'count' : 'Medals','region' : 'Country'}, inplace = True)\n",
    "    return temp_df"
   ]
  },
  {
   "cell_type": "markdown",
   "metadata": {},
   "source": [
    "LEARN ABOUT PANDAS MERGE "
   ]
  },
  {
   "cell_type": "code",
   "execution_count": 85,
   "metadata": {},
   "outputs": [
    {
     "data": {
      "text/html": [
       "<div>\n",
       "<style scoped>\n",
       "    .dataframe tbody tr th:only-of-type {\n",
       "        vertical-align: middle;\n",
       "    }\n",
       "\n",
       "    .dataframe tbody tr th {\n",
       "        vertical-align: top;\n",
       "    }\n",
       "\n",
       "    .dataframe thead th {\n",
       "        text-align: right;\n",
       "    }\n",
       "</style>\n",
       "<table border=\"1\" class=\"dataframe\">\n",
       "  <thead>\n",
       "    <tr style=\"text-align: right;\">\n",
       "      <th></th>\n",
       "      <th>Name</th>\n",
       "      <th>Medals</th>\n",
       "      <th>Country</th>\n",
       "      <th>Sport</th>\n",
       "    </tr>\n",
       "  </thead>\n",
       "  <tbody>\n",
       "    <tr>\n",
       "      <th>0</th>\n",
       "      <td>Michael Fred Phelps, II</td>\n",
       "      <td>28</td>\n",
       "      <td>USA</td>\n",
       "      <td>Swimming</td>\n",
       "    </tr>\n",
       "    <tr>\n",
       "      <th>1</th>\n",
       "      <td>Larysa Semenivna Latynina (Diriy-)</td>\n",
       "      <td>18</td>\n",
       "      <td>Russia</td>\n",
       "      <td>Gymnastics</td>\n",
       "    </tr>\n",
       "    <tr>\n",
       "      <th>2</th>\n",
       "      <td>Nikolay Yefimovich Andrianov</td>\n",
       "      <td>15</td>\n",
       "      <td>Russia</td>\n",
       "      <td>Gymnastics</td>\n",
       "    </tr>\n",
       "    <tr>\n",
       "      <th>3</th>\n",
       "      <td>Takashi Ono</td>\n",
       "      <td>13</td>\n",
       "      <td>Japan</td>\n",
       "      <td>Gymnastics</td>\n",
       "    </tr>\n",
       "    <tr>\n",
       "      <th>4</th>\n",
       "      <td>Borys Anfiyanovych Shakhlin</td>\n",
       "      <td>13</td>\n",
       "      <td>Russia</td>\n",
       "      <td>Gymnastics</td>\n",
       "    </tr>\n",
       "    <tr>\n",
       "      <th>5</th>\n",
       "      <td>Edoardo Mangiarotti</td>\n",
       "      <td>13</td>\n",
       "      <td>Italy</td>\n",
       "      <td>Fencing</td>\n",
       "    </tr>\n",
       "    <tr>\n",
       "      <th>6</th>\n",
       "      <td>Birgit Fischer-Schmidt</td>\n",
       "      <td>12</td>\n",
       "      <td>Germany</td>\n",
       "      <td>Canoeing</td>\n",
       "    </tr>\n",
       "    <tr>\n",
       "      <th>7</th>\n",
       "      <td>Paavo Johannes Nurmi</td>\n",
       "      <td>12</td>\n",
       "      <td>Finland</td>\n",
       "      <td>Athletics</td>\n",
       "    </tr>\n",
       "    <tr>\n",
       "      <th>8</th>\n",
       "      <td>Aleksey Yuryevich Nemov</td>\n",
       "      <td>12</td>\n",
       "      <td>Russia</td>\n",
       "      <td>Gymnastics</td>\n",
       "    </tr>\n",
       "    <tr>\n",
       "      <th>9</th>\n",
       "      <td>Sawao Kato</td>\n",
       "      <td>12</td>\n",
       "      <td>Japan</td>\n",
       "      <td>Gymnastics</td>\n",
       "    </tr>\n",
       "  </tbody>\n",
       "</table>\n",
       "</div>"
      ],
      "text/plain": [
       "                                 Name  Medals  Country       Sport\n",
       "0             Michael Fred Phelps, II      28      USA    Swimming\n",
       "1  Larysa Semenivna Latynina (Diriy-)      18   Russia  Gymnastics\n",
       "2        Nikolay Yefimovich Andrianov      15   Russia  Gymnastics\n",
       "3                         Takashi Ono      13    Japan  Gymnastics\n",
       "4         Borys Anfiyanovych Shakhlin      13   Russia  Gymnastics\n",
       "5                 Edoardo Mangiarotti      13    Italy     Fencing\n",
       "6              Birgit Fischer-Schmidt      12  Germany    Canoeing\n",
       "7                Paavo Johannes Nurmi      12  Finland   Athletics\n",
       "8             Aleksey Yuryevich Nemov      12   Russia  Gymnastics\n",
       "9                          Sawao Kato      12    Japan  Gymnastics"
      ]
     },
     "execution_count": 85,
     "metadata": {},
     "output_type": "execute_result"
    }
   ],
   "source": [
    "most_successful('Overall',df)"
   ]
  },
  {
   "cell_type": "markdown",
   "metadata": {},
   "source": [
    "PART 3 - COUNTRY WISE ANALYSIS  \n",
    "country wise medal tally per year ( line plot)  \n",
    "What countries are good at heatmap   \n",
    "Most successful athelets ( Top 10) per country \n"
   ]
  },
  {
   "cell_type": "code",
   "execution_count": 86,
   "metadata": {},
   "outputs": [],
   "source": [
    "temp_df = df.dropna(subset=['Medal'])"
   ]
  },
  {
   "cell_type": "code",
   "execution_count": 87,
   "metadata": {},
   "outputs": [],
   "source": [
    "temp_df = temp_df.drop_duplicates(subset=['Team','NOC','Games','City','Sport','Event','Medal'])"
   ]
  },
  {
   "cell_type": "code",
   "execution_count": 88,
   "metadata": {},
   "outputs": [],
   "source": [
    "temp_df = temp_df[temp_df['region'] == 'USA']"
   ]
  },
  {
   "cell_type": "code",
   "execution_count": 89,
   "metadata": {},
   "outputs": [],
   "source": [
    "temp_df = temp_df.groupby('Year').count()['Medal'].reset_index()\n",
    "# temp_df"
   ]
  },
  {
   "cell_type": "code",
   "execution_count": 90,
   "metadata": {},
   "outputs": [],
   "source": [
    "temp_df.rename(columns={'Medal' : 'Total Medals'},inplace=True)"
   ]
  },
  {
   "cell_type": "code",
   "execution_count": 91,
   "metadata": {},
   "outputs": [
    {
     "data": {
      "application/vnd.plotly.v1+json": {
       "config": {
        "plotlyServerURL": "https://plot.ly"
       },
       "data": [
        {
         "hovertemplate": "Year=%{x}<br>Total Medals=%{y}<extra></extra>",
         "legendgroup": "",
         "line": {
          "color": "#636efa",
          "dash": "solid"
         },
         "marker": {
          "symbol": "circle"
         },
         "mode": "lines",
         "name": "",
         "orientation": "v",
         "showlegend": false,
         "type": "scatter",
         "x": [
          1896,
          1900,
          1904,
          1908,
          1912,
          1920,
          1924,
          1928,
          1932,
          1936,
          1948,
          1952,
          1956,
          1960,
          1964,
          1968,
          1972,
          1976,
          1984,
          1988,
          1992,
          1996,
          2000,
          2004,
          2008,
          2012,
          2016
         ],
         "xaxis": "x",
         "y": [
          19,
          54,
          231,
          46,
          63,
          95,
          99,
          56,
          110,
          57,
          84,
          76,
          74,
          71,
          90,
          107,
          94,
          94,
          173,
          94,
          108,
          101,
          91,
          101,
          110,
          103,
          121
         ],
         "yaxis": "y"
        }
       ],
       "layout": {
        "legend": {
         "tracegroupgap": 0
        },
        "margin": {
         "t": 60
        },
        "template": {
         "data": {
          "bar": [
           {
            "error_x": {
             "color": "#2a3f5f"
            },
            "error_y": {
             "color": "#2a3f5f"
            },
            "marker": {
             "line": {
              "color": "#E5ECF6",
              "width": 0.5
             },
             "pattern": {
              "fillmode": "overlay",
              "size": 10,
              "solidity": 0.2
             }
            },
            "type": "bar"
           }
          ],
          "barpolar": [
           {
            "marker": {
             "line": {
              "color": "#E5ECF6",
              "width": 0.5
             },
             "pattern": {
              "fillmode": "overlay",
              "size": 10,
              "solidity": 0.2
             }
            },
            "type": "barpolar"
           }
          ],
          "carpet": [
           {
            "aaxis": {
             "endlinecolor": "#2a3f5f",
             "gridcolor": "white",
             "linecolor": "white",
             "minorgridcolor": "white",
             "startlinecolor": "#2a3f5f"
            },
            "baxis": {
             "endlinecolor": "#2a3f5f",
             "gridcolor": "white",
             "linecolor": "white",
             "minorgridcolor": "white",
             "startlinecolor": "#2a3f5f"
            },
            "type": "carpet"
           }
          ],
          "choropleth": [
           {
            "colorbar": {
             "outlinewidth": 0,
             "ticks": ""
            },
            "type": "choropleth"
           }
          ],
          "contour": [
           {
            "colorbar": {
             "outlinewidth": 0,
             "ticks": ""
            },
            "colorscale": [
             [
              0,
              "#0d0887"
             ],
             [
              0.1111111111111111,
              "#46039f"
             ],
             [
              0.2222222222222222,
              "#7201a8"
             ],
             [
              0.3333333333333333,
              "#9c179e"
             ],
             [
              0.4444444444444444,
              "#bd3786"
             ],
             [
              0.5555555555555556,
              "#d8576b"
             ],
             [
              0.6666666666666666,
              "#ed7953"
             ],
             [
              0.7777777777777778,
              "#fb9f3a"
             ],
             [
              0.8888888888888888,
              "#fdca26"
             ],
             [
              1,
              "#f0f921"
             ]
            ],
            "type": "contour"
           }
          ],
          "contourcarpet": [
           {
            "colorbar": {
             "outlinewidth": 0,
             "ticks": ""
            },
            "type": "contourcarpet"
           }
          ],
          "heatmap": [
           {
            "colorbar": {
             "outlinewidth": 0,
             "ticks": ""
            },
            "colorscale": [
             [
              0,
              "#0d0887"
             ],
             [
              0.1111111111111111,
              "#46039f"
             ],
             [
              0.2222222222222222,
              "#7201a8"
             ],
             [
              0.3333333333333333,
              "#9c179e"
             ],
             [
              0.4444444444444444,
              "#bd3786"
             ],
             [
              0.5555555555555556,
              "#d8576b"
             ],
             [
              0.6666666666666666,
              "#ed7953"
             ],
             [
              0.7777777777777778,
              "#fb9f3a"
             ],
             [
              0.8888888888888888,
              "#fdca26"
             ],
             [
              1,
              "#f0f921"
             ]
            ],
            "type": "heatmap"
           }
          ],
          "heatmapgl": [
           {
            "colorbar": {
             "outlinewidth": 0,
             "ticks": ""
            },
            "colorscale": [
             [
              0,
              "#0d0887"
             ],
             [
              0.1111111111111111,
              "#46039f"
             ],
             [
              0.2222222222222222,
              "#7201a8"
             ],
             [
              0.3333333333333333,
              "#9c179e"
             ],
             [
              0.4444444444444444,
              "#bd3786"
             ],
             [
              0.5555555555555556,
              "#d8576b"
             ],
             [
              0.6666666666666666,
              "#ed7953"
             ],
             [
              0.7777777777777778,
              "#fb9f3a"
             ],
             [
              0.8888888888888888,
              "#fdca26"
             ],
             [
              1,
              "#f0f921"
             ]
            ],
            "type": "heatmapgl"
           }
          ],
          "histogram": [
           {
            "marker": {
             "pattern": {
              "fillmode": "overlay",
              "size": 10,
              "solidity": 0.2
             }
            },
            "type": "histogram"
           }
          ],
          "histogram2d": [
           {
            "colorbar": {
             "outlinewidth": 0,
             "ticks": ""
            },
            "colorscale": [
             [
              0,
              "#0d0887"
             ],
             [
              0.1111111111111111,
              "#46039f"
             ],
             [
              0.2222222222222222,
              "#7201a8"
             ],
             [
              0.3333333333333333,
              "#9c179e"
             ],
             [
              0.4444444444444444,
              "#bd3786"
             ],
             [
              0.5555555555555556,
              "#d8576b"
             ],
             [
              0.6666666666666666,
              "#ed7953"
             ],
             [
              0.7777777777777778,
              "#fb9f3a"
             ],
             [
              0.8888888888888888,
              "#fdca26"
             ],
             [
              1,
              "#f0f921"
             ]
            ],
            "type": "histogram2d"
           }
          ],
          "histogram2dcontour": [
           {
            "colorbar": {
             "outlinewidth": 0,
             "ticks": ""
            },
            "colorscale": [
             [
              0,
              "#0d0887"
             ],
             [
              0.1111111111111111,
              "#46039f"
             ],
             [
              0.2222222222222222,
              "#7201a8"
             ],
             [
              0.3333333333333333,
              "#9c179e"
             ],
             [
              0.4444444444444444,
              "#bd3786"
             ],
             [
              0.5555555555555556,
              "#d8576b"
             ],
             [
              0.6666666666666666,
              "#ed7953"
             ],
             [
              0.7777777777777778,
              "#fb9f3a"
             ],
             [
              0.8888888888888888,
              "#fdca26"
             ],
             [
              1,
              "#f0f921"
             ]
            ],
            "type": "histogram2dcontour"
           }
          ],
          "mesh3d": [
           {
            "colorbar": {
             "outlinewidth": 0,
             "ticks": ""
            },
            "type": "mesh3d"
           }
          ],
          "parcoords": [
           {
            "line": {
             "colorbar": {
              "outlinewidth": 0,
              "ticks": ""
             }
            },
            "type": "parcoords"
           }
          ],
          "pie": [
           {
            "automargin": true,
            "type": "pie"
           }
          ],
          "scatter": [
           {
            "fillpattern": {
             "fillmode": "overlay",
             "size": 10,
             "solidity": 0.2
            },
            "type": "scatter"
           }
          ],
          "scatter3d": [
           {
            "line": {
             "colorbar": {
              "outlinewidth": 0,
              "ticks": ""
             }
            },
            "marker": {
             "colorbar": {
              "outlinewidth": 0,
              "ticks": ""
             }
            },
            "type": "scatter3d"
           }
          ],
          "scattercarpet": [
           {
            "marker": {
             "colorbar": {
              "outlinewidth": 0,
              "ticks": ""
             }
            },
            "type": "scattercarpet"
           }
          ],
          "scattergeo": [
           {
            "marker": {
             "colorbar": {
              "outlinewidth": 0,
              "ticks": ""
             }
            },
            "type": "scattergeo"
           }
          ],
          "scattergl": [
           {
            "marker": {
             "colorbar": {
              "outlinewidth": 0,
              "ticks": ""
             }
            },
            "type": "scattergl"
           }
          ],
          "scattermapbox": [
           {
            "marker": {
             "colorbar": {
              "outlinewidth": 0,
              "ticks": ""
             }
            },
            "type": "scattermapbox"
           }
          ],
          "scatterpolar": [
           {
            "marker": {
             "colorbar": {
              "outlinewidth": 0,
              "ticks": ""
             }
            },
            "type": "scatterpolar"
           }
          ],
          "scatterpolargl": [
           {
            "marker": {
             "colorbar": {
              "outlinewidth": 0,
              "ticks": ""
             }
            },
            "type": "scatterpolargl"
           }
          ],
          "scatterternary": [
           {
            "marker": {
             "colorbar": {
              "outlinewidth": 0,
              "ticks": ""
             }
            },
            "type": "scatterternary"
           }
          ],
          "surface": [
           {
            "colorbar": {
             "outlinewidth": 0,
             "ticks": ""
            },
            "colorscale": [
             [
              0,
              "#0d0887"
             ],
             [
              0.1111111111111111,
              "#46039f"
             ],
             [
              0.2222222222222222,
              "#7201a8"
             ],
             [
              0.3333333333333333,
              "#9c179e"
             ],
             [
              0.4444444444444444,
              "#bd3786"
             ],
             [
              0.5555555555555556,
              "#d8576b"
             ],
             [
              0.6666666666666666,
              "#ed7953"
             ],
             [
              0.7777777777777778,
              "#fb9f3a"
             ],
             [
              0.8888888888888888,
              "#fdca26"
             ],
             [
              1,
              "#f0f921"
             ]
            ],
            "type": "surface"
           }
          ],
          "table": [
           {
            "cells": {
             "fill": {
              "color": "#EBF0F8"
             },
             "line": {
              "color": "white"
             }
            },
            "header": {
             "fill": {
              "color": "#C8D4E3"
             },
             "line": {
              "color": "white"
             }
            },
            "type": "table"
           }
          ]
         },
         "layout": {
          "annotationdefaults": {
           "arrowcolor": "#2a3f5f",
           "arrowhead": 0,
           "arrowwidth": 1
          },
          "autotypenumbers": "strict",
          "coloraxis": {
           "colorbar": {
            "outlinewidth": 0,
            "ticks": ""
           }
          },
          "colorscale": {
           "diverging": [
            [
             0,
             "#8e0152"
            ],
            [
             0.1,
             "#c51b7d"
            ],
            [
             0.2,
             "#de77ae"
            ],
            [
             0.3,
             "#f1b6da"
            ],
            [
             0.4,
             "#fde0ef"
            ],
            [
             0.5,
             "#f7f7f7"
            ],
            [
             0.6,
             "#e6f5d0"
            ],
            [
             0.7,
             "#b8e186"
            ],
            [
             0.8,
             "#7fbc41"
            ],
            [
             0.9,
             "#4d9221"
            ],
            [
             1,
             "#276419"
            ]
           ],
           "sequential": [
            [
             0,
             "#0d0887"
            ],
            [
             0.1111111111111111,
             "#46039f"
            ],
            [
             0.2222222222222222,
             "#7201a8"
            ],
            [
             0.3333333333333333,
             "#9c179e"
            ],
            [
             0.4444444444444444,
             "#bd3786"
            ],
            [
             0.5555555555555556,
             "#d8576b"
            ],
            [
             0.6666666666666666,
             "#ed7953"
            ],
            [
             0.7777777777777778,
             "#fb9f3a"
            ],
            [
             0.8888888888888888,
             "#fdca26"
            ],
            [
             1,
             "#f0f921"
            ]
           ],
           "sequentialminus": [
            [
             0,
             "#0d0887"
            ],
            [
             0.1111111111111111,
             "#46039f"
            ],
            [
             0.2222222222222222,
             "#7201a8"
            ],
            [
             0.3333333333333333,
             "#9c179e"
            ],
            [
             0.4444444444444444,
             "#bd3786"
            ],
            [
             0.5555555555555556,
             "#d8576b"
            ],
            [
             0.6666666666666666,
             "#ed7953"
            ],
            [
             0.7777777777777778,
             "#fb9f3a"
            ],
            [
             0.8888888888888888,
             "#fdca26"
            ],
            [
             1,
             "#f0f921"
            ]
           ]
          },
          "colorway": [
           "#636efa",
           "#EF553B",
           "#00cc96",
           "#ab63fa",
           "#FFA15A",
           "#19d3f3",
           "#FF6692",
           "#B6E880",
           "#FF97FF",
           "#FECB52"
          ],
          "font": {
           "color": "#2a3f5f"
          },
          "geo": {
           "bgcolor": "white",
           "lakecolor": "white",
           "landcolor": "#E5ECF6",
           "showlakes": true,
           "showland": true,
           "subunitcolor": "white"
          },
          "hoverlabel": {
           "align": "left"
          },
          "hovermode": "closest",
          "mapbox": {
           "style": "light"
          },
          "paper_bgcolor": "white",
          "plot_bgcolor": "#E5ECF6",
          "polar": {
           "angularaxis": {
            "gridcolor": "white",
            "linecolor": "white",
            "ticks": ""
           },
           "bgcolor": "#E5ECF6",
           "radialaxis": {
            "gridcolor": "white",
            "linecolor": "white",
            "ticks": ""
           }
          },
          "scene": {
           "xaxis": {
            "backgroundcolor": "#E5ECF6",
            "gridcolor": "white",
            "gridwidth": 2,
            "linecolor": "white",
            "showbackground": true,
            "ticks": "",
            "zerolinecolor": "white"
           },
           "yaxis": {
            "backgroundcolor": "#E5ECF6",
            "gridcolor": "white",
            "gridwidth": 2,
            "linecolor": "white",
            "showbackground": true,
            "ticks": "",
            "zerolinecolor": "white"
           },
           "zaxis": {
            "backgroundcolor": "#E5ECF6",
            "gridcolor": "white",
            "gridwidth": 2,
            "linecolor": "white",
            "showbackground": true,
            "ticks": "",
            "zerolinecolor": "white"
           }
          },
          "shapedefaults": {
           "line": {
            "color": "#2a3f5f"
           }
          },
          "ternary": {
           "aaxis": {
            "gridcolor": "white",
            "linecolor": "white",
            "ticks": ""
           },
           "baxis": {
            "gridcolor": "white",
            "linecolor": "white",
            "ticks": ""
           },
           "bgcolor": "#E5ECF6",
           "caxis": {
            "gridcolor": "white",
            "linecolor": "white",
            "ticks": ""
           }
          },
          "title": {
           "x": 0.05
          },
          "xaxis": {
           "automargin": true,
           "gridcolor": "white",
           "linecolor": "white",
           "ticks": "",
           "title": {
            "standoff": 15
           },
           "zerolinecolor": "white",
           "zerolinewidth": 2
          },
          "yaxis": {
           "automargin": true,
           "gridcolor": "white",
           "linecolor": "white",
           "ticks": "",
           "title": {
            "standoff": 15
           },
           "zerolinecolor": "white",
           "zerolinewidth": 2
          }
         }
        },
        "xaxis": {
         "anchor": "y",
         "domain": [
          0,
          1
         ],
         "title": {
          "text": "Year"
         }
        },
        "yaxis": {
         "anchor": "x",
         "domain": [
          0,
          1
         ],
         "title": {
          "text": "Total Medals"
         }
        }
       }
      }
     },
     "metadata": {},
     "output_type": "display_data"
    }
   ],
   "source": [
    "fig = px.line(temp_df, x=\"Year\", y=\"Total Medals\")\n",
    "fig.show()"
   ]
  },
  {
   "cell_type": "code",
   "execution_count": 92,
   "metadata": {},
   "outputs": [],
   "source": [
    "def countrys_sport_analysis(df,country) : \n",
    "   temp_df = df.dropna(subset=['Medal'])\n",
    "   temp_df = temp_df[temp_df['region'] == country]\n",
    "   temp_df.drop_duplicates(subset=['Medal','Games','Sport','Event','region'],inplace=True)\n",
    "\n",
    "   return sns.heatmap(temp_df.pivot_table(index='Sport', columns='Year',values='Medal',aggfunc='count').fillna(0).astype('int'), annot=True, cmap='viridis')\n",
    "   \n"
   ]
  },
  {
   "cell_type": "code",
   "execution_count": 93,
   "metadata": {},
   "outputs": [
    {
     "data": {
      "text/plain": [
       "<Axes: xlabel='Year', ylabel='Sport'>"
      ]
     },
     "execution_count": 93,
     "metadata": {},
     "output_type": "execute_result"
    },
    {
     "data": {
      "image/png": "[encoded data removed]",
      "text/plain": [
       "<Figure size 640x480 with 2 Axes>"
      ]
     },
     "metadata": {},
     "output_type": "display_data"
    }
   ],
   "source": [
    "countrys_sport_analysis(df,'India')"
   ]
  },
  {
   "cell_type": "code",
   "execution_count": 94,
   "metadata": {},
   "outputs": [],
   "source": [
    "def most_successful_in_country(country,df) :\n",
    "    temp_df = df.dropna(subset=['Medal'])\n",
    "\n",
    "    temp_df = temp_df[temp_df['region'] == country]\n",
    "    \n",
    "    temp_df = temp_df['Name'].value_counts().reset_index().head(10).merge(df,left_on ='Name', right_on = 'Name', how ='left')\n",
    "    #extracting important columsn \n",
    "    temp_df = temp_df[['Name','count','Sport']]    #drop duplicates \n",
    "    temp_df = temp_df.drop_duplicates('Name').reset_index()\n",
    "    temp_df = temp_df.drop('index', axis = 1)\n",
    "    temp_df.rename(columns = {'count' : 'Medals'}, inplace = True)\n",
    "    return temp_df"
   ]
  },
  {
   "cell_type": "code",
   "execution_count": 95,
   "metadata": {},
   "outputs": [
    {
     "data": {
      "text/html": [
       "<div>\n",
       "<style scoped>\n",
       "    .dataframe tbody tr th:only-of-type {\n",
       "        vertical-align: middle;\n",
       "    }\n",
       "\n",
       "    .dataframe tbody tr th {\n",
       "        vertical-align: top;\n",
       "    }\n",
       "\n",
       "    .dataframe thead th {\n",
       "        text-align: right;\n",
       "    }\n",
       "</style>\n",
       "<table border=\"1\" class=\"dataframe\">\n",
       "  <thead>\n",
       "    <tr style=\"text-align: right;\">\n",
       "      <th></th>\n",
       "      <th>Name</th>\n",
       "      <th>Medals</th>\n",
       "      <th>Sport</th>\n",
       "    </tr>\n",
       "  </thead>\n",
       "  <tbody>\n",
       "    <tr>\n",
       "      <th>0</th>\n",
       "      <td>Leslie Walter Claudius</td>\n",
       "      <td>4</td>\n",
       "      <td>Hockey</td>\n",
       "    </tr>\n",
       "    <tr>\n",
       "      <th>1</th>\n",
       "      <td>Udham Singh Kular</td>\n",
       "      <td>4</td>\n",
       "      <td>Hockey</td>\n",
       "    </tr>\n",
       "    <tr>\n",
       "      <th>2</th>\n",
       "      <td>Victor John \"V. J.\" Peter</td>\n",
       "      <td>3</td>\n",
       "      <td>Hockey</td>\n",
       "    </tr>\n",
       "    <tr>\n",
       "      <th>3</th>\n",
       "      <td>Dhyan Chand Bais</td>\n",
       "      <td>3</td>\n",
       "      <td>Hockey</td>\n",
       "    </tr>\n",
       "    <tr>\n",
       "      <th>4</th>\n",
       "      <td>Richard James Allen</td>\n",
       "      <td>3</td>\n",
       "      <td>Hockey</td>\n",
       "    </tr>\n",
       "    <tr>\n",
       "      <th>5</th>\n",
       "      <td>Shankar Pillay Laxman</td>\n",
       "      <td>3</td>\n",
       "      <td>Hockey</td>\n",
       "    </tr>\n",
       "    <tr>\n",
       "      <th>6</th>\n",
       "      <td>Balbir Singh</td>\n",
       "      <td>3</td>\n",
       "      <td>Hockey</td>\n",
       "    </tr>\n",
       "    <tr>\n",
       "      <th>7</th>\n",
       "      <td>Harbinder Singh Chimni</td>\n",
       "      <td>3</td>\n",
       "      <td>Hockey</td>\n",
       "    </tr>\n",
       "    <tr>\n",
       "      <th>8</th>\n",
       "      <td>Prithipal Singh</td>\n",
       "      <td>3</td>\n",
       "      <td>Hockey</td>\n",
       "    </tr>\n",
       "    <tr>\n",
       "      <th>9</th>\n",
       "      <td>Ranganathan Francis</td>\n",
       "      <td>3</td>\n",
       "      <td>Hockey</td>\n",
       "    </tr>\n",
       "  </tbody>\n",
       "</table>\n",
       "</div>"
      ],
      "text/plain": [
       "                        Name  Medals   Sport\n",
       "0     Leslie Walter Claudius       4  Hockey\n",
       "1          Udham Singh Kular       4  Hockey\n",
       "2  Victor John \"V. J.\" Peter       3  Hockey\n",
       "3           Dhyan Chand Bais       3  Hockey\n",
       "4        Richard James Allen       3  Hockey\n",
       "5      Shankar Pillay Laxman       3  Hockey\n",
       "6               Balbir Singh       3  Hockey\n",
       "7     Harbinder Singh Chimni       3  Hockey\n",
       "8            Prithipal Singh       3  Hockey\n",
       "9        Ranganathan Francis       3  Hockey"
      ]
     },
     "execution_count": 95,
     "metadata": {},
     "output_type": "execute_result"
    }
   ],
   "source": [
    "most_successful_in_country('India',df)"
   ]
  },
  {
   "cell_type": "code",
   "execution_count": 101,
   "metadata": {},
   "outputs": [],
   "source": [
    "import plotly.figure_factory as ff \n",
    "# from plotly.tools import figure_factory as ff\n",
    "# import scipy"
   ]
  },
  {
   "cell_type": "code",
   "execution_count": 102,
   "metadata": {},
   "outputs": [],
   "source": [
    "athelete_df = df.drop_duplicates(subset=['Name','region'])\n"
   ]
  },
  {
   "cell_type": "code",
   "execution_count": 103,
   "metadata": {},
   "outputs": [],
   "source": [
    "x1 = athelete_df['Age'].dropna()\n",
    "x2 = athelete_df[athelete_df['Medal'] == 'Gold'] ['Age'].dropna()\n",
    "x3 = athelete_df[athelete_df['Medal'] == 'Silver'] ['Age'].dropna()\n",
    "x4 = athelete_df[athelete_df['Medal'] == 'Bronze'] ['Age'].dropna()"
   ]
  },
  {
   "cell_type": "code",
   "execution_count": 104,
   "metadata": {},
   "outputs": [
    {
     "data": {
      "application/vnd.plotly.v1+json": {
       "config": {
        "plotlyServerURL": "https://plot.ly"
       },
       "data": [
        {
         "legendgroup": "Overall Age",
         "marker": {
          "color": "rgb(31, 119, 180)"
         },
         "mode": "lines",
         "name": "Overall Age",
         "showlegend": true,
         "type": "scatter",
         "x": [
          10,
          10.174,
          10.348,
          10.522,
          10.696,
          10.87,
          11.044,
          11.218,
          11.392,
          11.566,
          11.74,
          11.914,
          12.088000000000001,
          12.262,
          12.436,
          12.61,
          12.783999999999999,
          12.958,
          13.132,
          13.306000000000001,
          13.48,
          13.654,
          13.828,
          14.001999999999999,
          14.176,
          14.35,
          14.524000000000001,
          14.698,
          14.872,
          15.046,
          15.219999999999999,
          15.394,
          15.568,
          15.742,
          15.916,
          16.09,
          16.264,
          16.438,
          16.612000000000002,
          16.786,
          16.96,
          17.134,
          17.308,
          17.482,
          17.656,
          17.83,
          18.003999999999998,
          18.178,
          18.352,
          18.526,
          18.7,
          18.874000000000002,
          19.048000000000002,
          19.222,
          19.396,
          19.57,
          19.744,
          19.918,
          20.092,
          20.266,
          20.439999999999998,
          20.614,
          20.788,
          20.962,
          21.136,
          21.310000000000002,
          21.484,
          21.658,
          21.832,
          22.006,
          22.18,
          22.354,
          22.528,
          22.701999999999998,
          22.875999999999998,
          23.05,
          23.224,
          23.398,
          23.572,
          23.746000000000002,
          23.92,
          24.094,
          24.268,
          24.442,
          24.616,
          24.79,
          24.964,
          25.137999999999998,
          25.311999999999998,
          25.486,
          25.66,
          25.834,
          26.008,
          26.182,
          26.356,
          26.53,
          26.704,
          26.878,
          27.052,
          27.226,
          27.4,
          27.574,
          27.748,
          27.922,
          28.096,
          28.27,
          28.444,
          28.618,
          28.792,
          28.966,
          29.14,
          29.314,
          29.488,
          29.662,
          29.836,
          30.01,
          30.184,
          30.358,
          30.532,
          30.706,
          30.88,
          31.054,
          31.228,
          31.402,
          31.576,
          31.75,
          31.924,
          32.098,
          32.272,
          32.446,
          32.620000000000005,
          32.794,
          32.968,
          33.141999999999996,
          33.316,
          33.489999999999995,
          33.664,
          33.838,
          34.012,
          34.186,
          34.36,
          34.534,
          34.708,
          34.882000000000005,
          35.056,
          35.230000000000004,
          35.403999999999996,
          35.578,
          35.751999999999995,
          35.926,
          36.1,
          36.274,
          36.448,
          36.622,
          36.796,
          36.97,
          37.144,
          37.318,
          37.492000000000004,
          37.666,
          37.84,
          38.013999999999996,
          38.188,
          38.361999999999995,
          38.536,
          38.71,
          38.884,
          39.058,
          39.232,
          39.406,
          39.58,
          39.754000000000005,
          39.928,
          40.102000000000004,
          40.275999999999996,
          40.45,
          40.623999999999995,
          40.798,
          40.972,
          41.146,
          41.32,
          41.494,
          41.668,
          41.842,
          42.016,
          42.19,
          42.364,
          42.538,
          42.712,
          42.886,
          43.06,
          43.234,
          43.408,
          43.582,
          43.756,
          43.93,
          44.104,
          44.278,
          44.452,
          44.626,
          44.8,
          44.974,
          45.148,
          45.322,
          45.496,
          45.67,
          45.844,
          46.018,
          46.192,
          46.366,
          46.54,
          46.714,
          46.888,
          47.062,
          47.236,
          47.41,
          47.584,
          47.758,
          47.932,
          48.106,
          48.28,
          48.454,
          48.628,
          48.802,
          48.976,
          49.15,
          49.324,
          49.498,
          49.672,
          49.846,
          50.02,
          50.194,
          50.368,
          50.542,
          50.716,
          50.89,
          51.064,
          51.238,
          51.412,
          51.586,
          51.76,
          51.934,
          52.108,
          52.282,
          52.456,
          52.63,
          52.804,
          52.978,
          53.152,
          53.326,
          53.5,
          53.674,
          53.848,
          54.022,
          54.196,
          54.37,
          54.544,
          54.718,
          54.892,
          55.066,
          55.24,
          55.414,
          55.588,
          55.762,
          55.936,
          56.11,
          56.284,
          56.458,
          56.632,
          56.806,
          56.98,
          57.154,
          57.328,
          57.502,
          57.676,
          57.85,
          58.024,
          58.198,
          58.372,
          58.546,
          58.72,
          58.894,
          59.068,
          59.242,
          59.416,
          59.59,
          59.764,
          59.938,
          60.112,
          60.286,
          60.46,
          60.634,
          60.808,
          60.982,
          61.156,
          61.33,
          61.504,
          61.678,
          61.852,
          62.026,
          62.2,
          62.374,
          62.548,
          62.722,
          62.896,
          63.07,
          63.244,
          63.418,
          63.592,
          63.766,
          63.94,
          64.114,
          64.288,
          64.462,
          64.636,
          64.81,
          64.98400000000001,
          65.158,
          65.332,
          65.506,
          65.68,
          65.854,
          66.02799999999999,
          66.202,
          66.376,
          66.55,
          66.72399999999999,
          66.898,
          67.072,
          67.24600000000001,
          67.42,
          67.594,
          67.768,
          67.94200000000001,
          68.116,
          68.28999999999999,
          68.464,
          68.638,
          68.812,
          68.98599999999999,
          69.16,
          69.334,
          69.50800000000001,
          69.682,
          69.856,
          70.03,
          70.20400000000001,
          70.378,
          70.55199999999999,
          70.726,
          70.9,
          71.074,
          71.24799999999999,
          71.422,
          71.596,
          71.77000000000001,
          71.944,
          72.118,
          72.292,
          72.46600000000001,
          72.64,
          72.814,
          72.988,
          73.162,
          73.336,
          73.50999999999999,
          73.684,
          73.858,
          74.032,
          74.206,
          74.38,
          74.554,
          74.728,
          74.902,
          75.076,
          75.25,
          75.424,
          75.598,
          75.772,
          75.946,
          76.12,
          76.294,
          76.468,
          76.642,
          76.816,
          76.99,
          77.164,
          77.338,
          77.512,
          77.686,
          77.86,
          78.034,
          78.208,
          78.382,
          78.556,
          78.73,
          78.904,
          79.078,
          79.252,
          79.426,
          79.6,
          79.774,
          79.948,
          80.122,
          80.296,
          80.47,
          80.644,
          80.818,
          80.992,
          81.166,
          81.34,
          81.514,
          81.688,
          81.862,
          82.036,
          82.21,
          82.384,
          82.558,
          82.732,
          82.906,
          83.08,
          83.254,
          83.428,
          83.602,
          83.776,
          83.95,
          84.124,
          84.298,
          84.472,
          84.646,
          84.82,
          84.994,
          85.168,
          85.342,
          85.516,
          85.69,
          85.864,
          86.038,
          86.212,
          86.386,
          86.56,
          86.734,
          86.908,
          87.082,
          87.256,
          87.43,
          87.604,
          87.778,
          87.952,
          88.126,
          88.3,
          88.474,
          88.648,
          88.822,
          88.996,
          89.17,
          89.344,
          89.518,
          89.692,
          89.866,
          90.04,
          90.214,
          90.388,
          90.562,
          90.736,
          90.91,
          91.084,
          91.258,
          91.432,
          91.606,
          91.78,
          91.954,
          92.128,
          92.302,
          92.476,
          92.65,
          92.824,
          92.998,
          93.172,
          93.346,
          93.52,
          93.694,
          93.868,
          94.042,
          94.216,
          94.39,
          94.564,
          94.738,
          94.912,
          95.086,
          95.26,
          95.434,
          95.608,
          95.782,
          95.956,
          96.13,
          96.304,
          96.478,
          96.652,
          96.826
         ],
         "xaxis": "x",
         "y": [
          0.00001071666609797144,
          0.000013492505052940373,
          0.00001708378468597667,
          0.000021949673296578206,
          0.000028725147433525302,
          0.00003826939534563522,
          0.000051646677879150124,
          0.00006998561812801579,
          0.00009431593490938527,
          0.00012563042552879295,
          0.0001653276407036614,
          0.00021579413354486416,
          0.0002805245311148877,
          0.0003633950193516283,
          0.00046760050658231064,
          0.0005955423741829929,
          0.0007504529851570335,
          0.0009386405889738855,
          0.00116966972970067,
          0.0014528830635826282,
          0.0017924966165228783,
          0.002186515543211848,
          0.0026325419711021743,
          0.0031363434246235358,
          0.0037135749670900654,
          0.004379024661057376,
          0.0051304156282322095,
          0.005943231863857038,
          0.006786576700747405,
          0.007649688711044333,
          0.008553803578877523,
          0.009533632897288645,
          0.010602604529355035,
          0.011737001984463721,
          0.01290003154008442,
          0.014086038774888543,
          0.015338878133645576,
          0.016719836586031146,
          0.018253826356484544,
          0.01991189409183547,
          0.021655033151230338,
          0.023496355917160688,
          0.025509385998389693,
          0.027761091533932383,
          0.030234024341793442,
          0.03282782786984284,
          0.03545470862477814,
          0.03813621453213028,
          0.04098953119364763,
          0.04409868777860035,
          0.04739754906931533,
          0.05069983050021825,
          0.05386693005699168,
          0.056948045403202856,
          0.06013448055393048,
          0.06355572730039444,
          0.06712325384924356,
          0.07059771163020097,
          0.07382564922798741,
          0.07689732004843035,
          0.08003916718101474,
          0.08333103397507408,
          0.08654338032054928,
          0.08928950358423492,
          0.09136442565006288,
          0.09293067467979385,
          0.09434965566973795,
          0.09581874088378635,
          0.09718267197106784,
          0.0981138525785527,
          0.09847203451120014,
          0.09846320278641695,
          0.09842708161215251,
          0.09847570794168153,
          0.09836600147176426,
          0.09774499910646367,
          0.09651495163399695,
          0.09494071834780712,
          0.09339345052577032,
          0.09200222079284551,
          0.09057152991521941,
          0.08883464606362486,
          0.08676265883536503,
          0.08460467537782074,
          0.08263035093564881,
          0.08085857893951119,
          0.07905774241820435,
          0.07700568819820791,
          0.07472654627619339,
          0.07245922410062444,
          0.07040438286751224,
          0.06852488998956777,
          0.06660408915804884,
          0.06448659208257286,
          0.062240973837316256,
          0.06008046531844504,
          0.058139010178391154,
          0.05634382643640347,
          0.05450959324997183,
          0.052540907506617926,
          0.0505248497693127,
          0.04862465484584546,
          0.046898728234942975,
          0.04523921737914689,
          0.0434879684136765,
          0.04160045403561678,
          0.039687396474888476,
          0.03790085660595843,
          0.03629198532421692,
          0.03478484845535866,
          0.03327908765252591,
          0.031761716642069636,
          0.03031129018101394,
          0.029000827083138683,
          0.027811264272275586,
          0.026647259524632975,
          0.02543322571117587,
          0.024185528251654716,
          0.022988961463589225,
          0.02190913727155605,
          0.020934562334102635,
          0.020002787687038497,
          0.01907387271427905,
          0.01817002369910213,
          0.01734385414447435,
          0.016615872165960853,
          0.015950333224921828,
          0.015292411606568466,
          0.014623441488040673,
          0.013975445428603843,
          0.013393180798577809,
          0.01288726233813117,
          0.01242723111313573,
          0.011977388333077826,
          0.011533175402556795,
          0.011118987130304077,
          0.01075257947702313,
          0.010416997399448286,
          0.010070987889575734,
          0.009686541156236303,
          0.009273973488097572,
          0.008869538708360923,
          0.008500135200146714,
          0.00816169358377051,
          0.007830906720504613,
          0.007494501742224731,
          0.0071641429912635375,
          0.006863128377383953,
          0.006601620459782396,
          0.006367500779936804,
          0.006141108397218006,
          0.005916284363127097,
          0.005704936831112063,
          0.005521591907169189,
          0.005365951847381558,
          0.005222396247276389,
          0.005076072441908459,
          0.004927491543507964,
          0.004790110159287173,
          0.0046743375185673034,
          0.004575702572236842,
          0.004479590273349819,
          0.004376672625391249,
          0.004272009405942172,
          0.004178312985934617,
          0.004101208564497246,
          0.004032571970394625,
          0.003958766243471771,
          0.0038743890060394825,
          0.003786537372960724,
          0.003705211772274548,
          0.003630486616718814,
          0.0035503984587663346,
          0.0034519863728018573,
          0.003334155615091231,
          0.0032094678198235907,
          0.0030936631485946864,
          0.0029939274879061607,
          0.002907076767484194,
          0.0028276594859899576,
          0.0027559001395889167,
          0.002696822827663946,
          0.0026524131668544788,
          0.002616433389866549,
          0.0025782873154497773,
          0.0025321212691347796,
          0.0024814855511756913,
          0.0024346191331692333,
          0.002395411765612289,
          0.0023595137862277996,
          0.0023193388005089766,
          0.0022722083236554444,
          0.002222803235426406,
          0.002177469676151185,
          0.0021367001256613143,
          0.0020939074212781104,
          0.0020417614182650584,
          0.0019793733175413894,
          0.001912914209682683,
          0.0018492907286744157,
          0.0017896244025145233,
          0.001729120130850198,
          0.0016630290301661301,
          0.0015922818331490717,
          0.0015232057774001448,
          0.0014621559657062902,
          0.0014108752719385455,
          0.0013669716497696455,
          0.0013281331624157475,
          0.0012949932846305296,
          0.001269625578682049,
          0.0012518071493788142,
          0.0012376520581959057,
          0.0012224405930920924,
          0.001204713459492834,
          0.0011872380895694282,
          0.0011738150966222817,
          0.0011653292954692058,
          0.0011591340175560654,
          0.0011521214553732013,
          0.001143803723047254,
          0.0011357947440601888,
          0.001128149603327097,
          0.0011166658611278032,
          0.001094520129858329,
          0.0010572256427629112,
          0.0010064319563556747,
          0.0009491026916232248,
          0.0008929709348137635,
          0.0008424200027279771,
          0.000797998349237349,
          0.0007589806985234397,
          0.0007257559677816301,
          0.0006997621585101887,
          0.0006817218028714608,
          0.000670630664914733,
          0.0006646991431589343,
          0.0006629547482129442,
          0.000665407345673271,
          0.0006714239097214771,
          0.0006782110659787103,
          0.0006814520090415743,
          0.000677920539466693,
          0.0006676751576561389,
          0.0006536561938340474,
          0.0006390161774477243,
          0.0006247152878922671,
          0.0006095394843455197,
          0.0005921913414850448,
          0.0005730975739910752,
          0.0005540881599795935,
          0.0005364588701276459,
          0.0005195968932030962,
          0.0005016530670055604,
          0.0004815522118458117,
          0.00046029925830167866,
          0.0004403690812703469,
          0.000423942588194386,
          0.0004117537782417577,
          0.0004034110304943205,
          0.00039838606828239827,
          0.000396278877672849,
          0.00039602117809036817,
          0.00039511393586574736,
          0.00039017337691117974,
          0.0003787575790471294,
          0.0003610475759533419,
          0.0003399441096874786,
          0.0003195243314015941,
          0.00030316423765487183,
          0.00029265997280229794,
          0.000288505968718598,
          0.00029043826740768704,
          0.0002974731676238894,
          0.00030765016457400034,
          0.00031829012911570315,
          0.0003270652106096906,
          0.0003331259075661687,
          0.000337190756890397,
          0.0003403828042797004,
          0.0003428444111498235,
          0.0003434446963773018,
          0.00034084167761896255,
          0.0003348143561040916,
          0.00032652233670874817,
          0.0003174502485013057,
          0.0003081162616607762,
          0.00029782308243682653,
          0.00028564573047248025,
          0.0002716324193097192,
          0.00025706529903847536,
          0.0002436316839246569,
          0.00023239634499697538,
          0.00022350717201428068,
          0.000216687240418876,
          0.00021177390806374988,
          0.00020867122462752476,
          0.00020687193602058766,
          0.00020525211810797957,
          0.00020254482793350767,
          0.00019811304105238684,
          0.00019224918745719782,
          0.00018566938042576127,
          0.0001786827205911588,
          0.00017084941129099547,
          0.0001614608784340514,
          0.00015038670885977662,
          0.0001385227241391955,
          0.0001274959087370128,
          0.00011895049752111589,
          0.00011399222258678069,
          0.0001130467870892917,
          0.00011593468332706143,
          0.00012188110505645233,
          0.0001294877876897019,
          0.00013695337761624805,
          0.00014266970779470205,
          0.00014588006701237168,
          0.0001468695638567725,
          0.00014647762516335397,
          0.00014531614689872386,
          0.00014335146955748198,
          0.00014016376727108465,
          0.00013555977743844386,
          0.00012991250164550913,
          0.00012391859509694957,
          0.00011805645299005215,
          0.00011229490027119064,
          0.0001063066975627555,
          0.00009992404730954871,
          0.00009336707632324361,
          0.00008705316050828553,
          0.00008122887109679972,
          0.00007581061606143801,
          0.00007056740887453775,
          0.0000654291303435142,
          0.00006061333572060424,
          0.00005648398665966508,
          0.00005332181864067432,
          0.00005122832901773423,
          0.00005020197792954324,
          0.000050245569688612084,
          0.00005137631268070364,
          0.000053565639362067304,
          0.000056727933512285445,
          0.000060790796918341774,
          0.00006572618681650132,
          0.00007141134621010763,
          0.00007737653546960035,
          0.00008269372075425801,
          0.00008622154598133518,
          0.00008712689392667597,
          0.00008531701859275691,
          0.00008143603183154925,
          0.00007642045305651429,
          0.00007096587741556429,
          0.00006530188371794308,
          0.00005937736096020415,
          0.000053213327263881305,
          0.00004709402390490103,
          0.00004147438958594166,
          0.00003674661629654149,
          0.00003308543919023669,
          0.000030457828446481168,
          0.00002871482455093169,
          0.000027648604119527312,
          0.000026993505516959334,
          0.00002644068351545512,
          0.000025719148802218176,
          0.000024703481006836192,
          0.00002345512430876482,
          0.000022153316665057518,
          0.00002097048939042403,
          0.000019990810944440712,
          0.0000192176568259081,
          0.000018627065017832257,
          0.000018192485522162007,
          0.000017857173032413273,
          0.00001750162443437573,
          0.000016965542976159302,
          0.00001612579069858305,
          0.000014967842218755738,
          0.0000135865073051019,
          0.000012113699350880703,
          0.000010634410434556249,
          0.000009157246209703911,
          0.00000765347410773058,
          0.0000061215420667086384,
          0.000004621476270969997,
          0.0000032573951020573257,
          0.000002129458737942275,
          0.0000012934901397252873,
          7.521579547860927e-7,
          4.758357626171464e-7,
          4.3474061249873357e-7,
          6.225872426433866e-7,
          0.00000105965620528069,
          0.0000017729965241082401,
          0.000002761555738996352,
          0.000003963794731214045,
          0.000005249866065892943,
          0.000006451792934521634,
          0.000007422081978271104,
          0.000008087231911395929,
          0.000008459160252891985,
          0.000008594253195633177,
          0.000008529634434400725,
          0.000008246052373895131,
          0.000007686891513782975,
          0.000006818133624032385,
          0.0000056822161081717325,
          0.000004405444997185412,
          0.000003155266234885577,
          0.000002078030305968203,
          0.0000012547951735384675,
          6.934600052257642e-7,
          3.5037000670421695e-7,
          1.6173611365629304e-7,
          6.818568789114674e-8,
          2.6247348219453904e-8,
          9.22410382095791e-9,
          2.9591994532953148e-9,
          8.665921005130116e-10,
          2.3165052432055786e-10,
          5.652267385503872e-11,
          1.258874065625417e-11,
          2.5600792083166735e-12,
          4.815628729478969e-13,
          1.2497616433377543e-13,
          2.8327483272924685e-13,
          1.5048478486251551e-12,
          7.61432606902979e-12,
          3.5205597623521655e-11,
          1.4858136893943058e-10,
          5.723707630460809e-10,
          2.0125685259470914e-9,
          6.459279127623934e-9,
          1.89224588148987e-8,
          5.0597752417555474e-8,
          1.2349376270858763e-7,
          2.7511797202696126e-7,
          5.594393883406799e-7,
          0.0000010383583506319276,
          0.0000017591449262487305,
          0.0000027202957363876538,
          0.000003839642253532176,
          0.000004946813579317945,
          0.000005817286683893162,
          0.000006244181672832901,
          0.000006117736033033186,
          0.000005470991987805111,
          0.0000044658235949809416,
          0.000003327340067587548,
          0.0000022628353582338987,
          0.0000014046523928009658,
          7.958750883150562e-7,
          4.116054337641391e-7,
          1.9430207045600935e-7,
          8.372090186335326e-8,
          3.29268744930605e-8,
          1.1820266251997802e-8,
          3.873148518938957e-9,
          1.1584070256267074e-9,
          3.162411317643445e-10,
          7.880171493565718e-11,
          1.7923099799613345e-11,
          3.720923299056779e-12,
          7.05096340000142e-13,
          1.2195702365570765e-13,
          1.9255587447239062e-14,
          2.788381340838457e-15,
          4.853004151029043e-16,
          1.00398215471755e-15,
          6.997221795697196e-15,
          4.648083730469156e-14,
          2.8201503784379836e-13,
          1.5618387662603114e-12,
          7.89518328958084e-12,
          3.642936114410063e-11,
          1.5342862899047216e-10,
          5.898349022157729e-10,
          2.0698077130643156e-9,
          6.630031221083991e-9,
          1.9386751071880937e-8,
          5.175216427429948e-8,
          1.2613536498782272e-7,
          2.8074743617729256e-7,
          5.708336279762363e-7,
          0.0000010608651558983403,
          0.0000018037321034568397,
          0.000002810057128075213,
          0.0000040214744925284035,
          0.000005308055243925416,
          0.0000065023276435244015,
          0.000007459545154007134,
          0.000008110399472579485,
          0.000008470116725892065,
          0.000008595582779071557,
          0.000008521765184453004,
          0.000008226836551698038
         ],
         "yaxis": "y"
        },
        {
         "legendgroup": "Gold Medalist",
         "marker": {
          "color": "rgb(255, 127, 14)"
         },
         "mode": "lines",
         "name": "Gold Medalist",
         "showlegend": true,
         "type": "scatter",
         "x": [
          13,
          13.102,
          13.204,
          13.306,
          13.408,
          13.51,
          13.612,
          13.714,
          13.816,
          13.918,
          14.02,
          14.122,
          14.224,
          14.326,
          14.428,
          14.53,
          14.632,
          14.734,
          14.836,
          14.938,
          15.04,
          15.142,
          15.244,
          15.346,
          15.448,
          15.55,
          15.652000000000001,
          15.754,
          15.856,
          15.958,
          16.06,
          16.162,
          16.264,
          16.366,
          16.468,
          16.57,
          16.672,
          16.774,
          16.876,
          16.978,
          17.08,
          17.182000000000002,
          17.284,
          17.386,
          17.488,
          17.59,
          17.692,
          17.794,
          17.896,
          17.998,
          18.1,
          18.201999999999998,
          18.304000000000002,
          18.406,
          18.508,
          18.61,
          18.712,
          18.814,
          18.916,
          19.018,
          19.12,
          19.222,
          19.323999999999998,
          19.426000000000002,
          19.528,
          19.63,
          19.732,
          19.834,
          19.936,
          20.038,
          20.14,
          20.242,
          20.344,
          20.445999999999998,
          20.548000000000002,
          20.65,
          20.752,
          20.854,
          20.956,
          21.058,
          21.16,
          21.262,
          21.364,
          21.466,
          21.567999999999998,
          21.67,
          21.772,
          21.874000000000002,
          21.976,
          22.078,
          22.18,
          22.282,
          22.384,
          22.486,
          22.588,
          22.689999999999998,
          22.792,
          22.894,
          22.996000000000002,
          23.098,
          23.2,
          23.302,
          23.404,
          23.506,
          23.608,
          23.71,
          23.811999999999998,
          23.914,
          24.016,
          24.118000000000002,
          24.22,
          24.322,
          24.424,
          24.526,
          24.628,
          24.73,
          24.832,
          24.933999999999997,
          25.036,
          25.137999999999998,
          25.240000000000002,
          25.342,
          25.444000000000003,
          25.546,
          25.648,
          25.75,
          25.852,
          25.954,
          26.055999999999997,
          26.158,
          26.259999999999998,
          26.362000000000002,
          26.464,
          26.566000000000003,
          26.668,
          26.77,
          26.872,
          26.974,
          27.076,
          27.178,
          27.28,
          27.381999999999998,
          27.484,
          27.586,
          27.688000000000002,
          27.79,
          27.892,
          27.994,
          28.096,
          28.198,
          28.3,
          28.402,
          28.503999999999998,
          28.606,
          28.708,
          28.810000000000002,
          28.912,
          29.014,
          29.116,
          29.218,
          29.32,
          29.422,
          29.524,
          29.626,
          29.728,
          29.83,
          29.932,
          30.034,
          30.136,
          30.238,
          30.34,
          30.442,
          30.544,
          30.646,
          30.748,
          30.85,
          30.952,
          31.054,
          31.156,
          31.258,
          31.36,
          31.462,
          31.564,
          31.666,
          31.768,
          31.87,
          31.972,
          32.074,
          32.176,
          32.278,
          32.379999999999995,
          32.482,
          32.584,
          32.686,
          32.788,
          32.89,
          32.992000000000004,
          33.094,
          33.196,
          33.298,
          33.4,
          33.501999999999995,
          33.604,
          33.706,
          33.808,
          33.91,
          34.012,
          34.114000000000004,
          34.216,
          34.318,
          34.42,
          34.522,
          34.623999999999995,
          34.726,
          34.828,
          34.93,
          35.032,
          35.134,
          35.236000000000004,
          35.338,
          35.44,
          35.542,
          35.644,
          35.745999999999995,
          35.848,
          35.95,
          36.052,
          36.153999999999996,
          36.256,
          36.358000000000004,
          36.46,
          36.562,
          36.664,
          36.766,
          36.867999999999995,
          36.97,
          37.072,
          37.174,
          37.275999999999996,
          37.378,
          37.480000000000004,
          37.582,
          37.684,
          37.786,
          37.888000000000005,
          37.989999999999995,
          38.092,
          38.194,
          38.296,
          38.397999999999996,
          38.5,
          38.602000000000004,
          38.704,
          38.806,
          38.908,
          39.010000000000005,
          39.111999999999995,
          39.214,
          39.316,
          39.418,
          39.519999999999996,
          39.622,
          39.724000000000004,
          39.826,
          39.928,
          40.03,
          40.132000000000005,
          40.234,
          40.336,
          40.438,
          40.54,
          40.641999999999996,
          40.744,
          40.846000000000004,
          40.948,
          41.05,
          41.152,
          41.254000000000005,
          41.356,
          41.458,
          41.56,
          41.662,
          41.763999999999996,
          41.866,
          41.968,
          42.07,
          42.172,
          42.274,
          42.376000000000005,
          42.478,
          42.58,
          42.682,
          42.784,
          42.885999999999996,
          42.988,
          43.09,
          43.192,
          43.294,
          43.396,
          43.498000000000005,
          43.6,
          43.702,
          43.804,
          43.906,
          44.007999999999996,
          44.11,
          44.212,
          44.314,
          44.416,
          44.518,
          44.620000000000005,
          44.722,
          44.824,
          44.926,
          45.028,
          45.13,
          45.232,
          45.334,
          45.436,
          45.538,
          45.64,
          45.742,
          45.844,
          45.946,
          46.048,
          46.15,
          46.252,
          46.354,
          46.456,
          46.558,
          46.66,
          46.762,
          46.864,
          46.966,
          47.068,
          47.17,
          47.272,
          47.374,
          47.476,
          47.578,
          47.68,
          47.782,
          47.884,
          47.986,
          48.088,
          48.19,
          48.292,
          48.394,
          48.496,
          48.598,
          48.7,
          48.802,
          48.904,
          49.006,
          49.108,
          49.21,
          49.312,
          49.414,
          49.516,
          49.618,
          49.72,
          49.822,
          49.924,
          50.026,
          50.128,
          50.23,
          50.332,
          50.434,
          50.536,
          50.638,
          50.74,
          50.842,
          50.944,
          51.046,
          51.148,
          51.25,
          51.352,
          51.454,
          51.556,
          51.658,
          51.76,
          51.862,
          51.964,
          52.066,
          52.168,
          52.27,
          52.372,
          52.474,
          52.576,
          52.678,
          52.78,
          52.882,
          52.984,
          53.086,
          53.188,
          53.29,
          53.392,
          53.494,
          53.596,
          53.698,
          53.8,
          53.902,
          54.004,
          54.106,
          54.208,
          54.31,
          54.412,
          54.514,
          54.616,
          54.718,
          54.82,
          54.922,
          55.024,
          55.126,
          55.228,
          55.33,
          55.432,
          55.534,
          55.636,
          55.738,
          55.84,
          55.942,
          56.044,
          56.146,
          56.248,
          56.35,
          56.452,
          56.554,
          56.656,
          56.758,
          56.86,
          56.962,
          57.064,
          57.166,
          57.268,
          57.37,
          57.472,
          57.574,
          57.676,
          57.778,
          57.88,
          57.982,
          58.084,
          58.186,
          58.288,
          58.39,
          58.492,
          58.594,
          58.696,
          58.798,
          58.9,
          59.002,
          59.104,
          59.206,
          59.308,
          59.41,
          59.512,
          59.614,
          59.716,
          59.818,
          59.92,
          60.022,
          60.124,
          60.226,
          60.328,
          60.43,
          60.532,
          60.634,
          60.736,
          60.838,
          60.94,
          61.042,
          61.144,
          61.246,
          61.348,
          61.45,
          61.552,
          61.654,
          61.756,
          61.858,
          61.96,
          62.062,
          62.164,
          62.266,
          62.368,
          62.47,
          62.572,
          62.674,
          62.776,
          62.878,
          62.98,
          63.082,
          63.184,
          63.286,
          63.388,
          63.49,
          63.592,
          63.694,
          63.796,
          63.898
         ],
         "xaxis": "x",
         "y": [
          0.0009551539107415149,
          0.0010448657896759584,
          0.001141578686355887,
          0.0012463144999423348,
          0.0013601613433456624,
          0.001484225419958543,
          0.00161957871788574,
          0.001767206969651298,
          0.0019279626496806403,
          0.0021025276474548747,
          0.0022913896404255295,
          0.0024948351287829096,
          0.002712960667539694,
          0.0029457021700998905,
          0.0031928804257591835,
          0.003454259352608891,
          0.0037296121748034137,
          0.004018789822245125,
          0.004321785511210058,
          0.004638789728697811,
          0.004970230699114366,
          0.005316796783034573,
          0.005679439011800162,
          0.006059353924347036,
          0.006457948846212504,
          0.006876793534519106,
          0.007317563523269345,
          0.007781981391853271,
          0.00827176244700849,
          0.008788570914341329,
          0.009333991703963287,
          0.009909521233264745,
          0.010516578803329462,
          0.011156537824346882,
          0.01183077398832054,
          0.012540725519914728,
          0.013287959107095482,
          0.014074234190952939,
          0.014901558087334042,
          0.01577222495707813,
          0.01668883289353218,
          0.017654275238264027,
          0.018671704489255415,
          0.019744469608642803,
          0.020876029927854766,
          0.022069850949927264,
          0.02332928895231389,
          0.024657472236365986,
          0.026057187052902747,
          0.027530775632612598,
          0.02908005242122514,
          0.0307062426971012,
          0.03240994543622129,
          0.034191119839275495,
          0.03604909262168568,
          0.03798258125103323,
          0.03998972701099377,
          0.042068131211178354,
          0.04421488808693811,
          0.04642660888120449,
          0.04869943312691866,
          0.05102902505275166,
          0.05341055509565573,
          0.0558386685140027,
          0.058307444884752924,
          0.06081035371330491,
          0.06334021240403535,
          0.06588915337861923,
          0.06844860714875318,
          0.07100930761883588,
          0.07356132479760384,
          0.07609412845680741,
          0.07859668417033777,
          0.08105758075727845,
          0.08346518567410743,
          0.08580782264284743,
          0.08807396405936639,
          0.09025242973348915,
          0.09233258339245443,
          0.094304519095379,
          0.09615923106973771,
          0.09788876218279105,
          0.0994863279489763,
          0.10094641433696001,
          0.10226484848670514,
          0.10343884175341708,
          0.10446700440521862,
          0.10534933107978216,
          0.10608715605955471,
          0.10668307781078136,
          0.10714085318201698,
          0.10746526313785082,
          0.10766195372510182,
          0.10773725783345017,
          0.10769800489404667,
          0.10755132668079288,
          0.10730446767194575,
          0.10696460796494918,
          0.10653870561184603,
          0.10603336363980372,
          0.10545472516241698,
          0.1048083980782708,
          0.10409940905888096,
          0.10333218495962032,
          0.10251055851419373,
          0.10163779423970551,
          0.1007166299178966,
          0.09974932885498372,
          0.09873773836584517,
          0.09768335055583499,
          0.09658736241461975,
          0.09545073337323394,
          0.09427423965197229,
          0.09305852577711683,
          0.0918041544260022,
          0.09051165617978697,
          0.08918158079581753,
          0.08781455129113647,
          0.08641132153432661,
          0.08497283726600449,
          0.08350029959124726,
          0.08199522907011168,
          0.08045952761585222,
          0.07889553453663929,
          0.07730607228915054,
          0.07569447695536881,
          0.07406460824852272,
          0.07242083415930722,
          0.07076798630480217,
          0.06911128370550453,
          0.06745622504700592,
          0.06580845230829552,
          0.0641735916641418,
          0.06255708041857863,
          0.06096399099961277,
          0.05939886438858171,
          0.057865565522140616,
          0.05636717209072092,
          0.05490590582815735,
          0.05348311205734702,
          0.05209928926092783,
          0.05075416619024644,
          0.049446819940398,
          0.04817582491089332,
          0.046939419985426646,
          0.04573567985395687,
          0.044562676306244706,
          0.043418616563255366,
          0.042301948167084935,
          0.04121142338453439,
          0.040146120155442666,
          0.03910542092360785,
          0.038088954788526835,
          0.037096511893148845,
          0.03612794146844731,
          0.03518304625102548,
          0.03426148596936291,
          0.033362701293556334,
          0.03248586722887955,
          0.03162988167710765,
          0.030793391135420015,
          0.029974851628386156,
          0.02917261934957601,
          0.02838506246559353,
          0.02761068338449719,
          0.026848239705122574,
          0.02609685213572837,
          0.025356088880319472,
          0.024626018208204384,
          0.02390722391336549,
          0.023200781820835625,
          0.022508199045491593,
          0.021831320985905314,
          0.021172213711919293,
          0.020533031227940347,
          0.019915877922072858,
          0.019322676324500444,
          0.018755049196436134,
          0.018214223150580522,
          0.01770095872686085,
          0.017215509398455724,
          0.0167576096328868,
          0.01632649010270406,
          0.015920916581426598,
          0.015539248044293604,
          0.015179509014581169,
          0.01483947118500752,
          0.014516739686274736,
          0.014208839936101484,
          0.013913301649872704,
          0.01362773721843123,
          0.013349912187108688,
          0.013077805974996672,
          0.012809661270178855,
          0.012544020775255914,
          0.012279750227377165,
          0.012016046948068794,
          0.011752433642634777,
          0.011488737786703396,
          0.01122505768856823,
          0.010961717141311928,
          0.010699211389358773,
          0.010438147826646453,
          0.010179185318363456,
          0.009922976216785404,
          0.009670114980402444,
          0.00942109680211696,
          0.009176288846212003,
          0.008935915659788974,
          0.008700059161742761,
          0.008468672432150055,
          0.008241605437055984,
          0.008018639925286621,
          0.0077995301006940155,
          0.007584045352710956,
          0.007372011336364239,
          0.0071633460137711345,
          0.00695808785652011,
          0.00675641419120798,
          0.006558648561206164,
          0.00636525688254804,
          0.006176833002299662,
          0.005994074952096943,
          0.0058177536815900086,
          0.005648676340703557,
          0.0054876462707288565,
          0.005335421802202371,
          0.0051926757976418466,
          0.005059957678225986,
          0.004937659485211215,
          0.004825987380183851,
          0.004724939889166074,
          0.004634294124601636,
          0.004553601135776436,
          0.004482191389712996,
          0.004419191118270496,
          0.0043635498427772295,
          0.0043140787884552384,
          0.00426949914225292,
          0.00422849823939389,
          0.004189790868186598,
          0.004152182065743186,
          0.004114627156561025,
          0.004076284473411768,
          0.00403655628485246,
          0.003995113986469947,
          0.003951904593851176,
          0.003907136948554424,
          0.003861247704593459,
          0.003814848948736635,
          0.0037686610423951264,
          0.0037234357687279127,
          0.0036798759548926046,
          0.003638558282952352,
          0.003599865925558287,
          0.003563936931486262,
          0.0035306329971510723,
          0.003499531512279394,
          0.003469941730525058,
          0.003440943790684579,
          0.003411447313149233,
          0.003380264617953532,
          0.003346192418813697,
          0.0033080952523667447,
          0.0032649839488238883,
          0.003216083115311736,
          0.0031608827964347383,
          0.0030991710541967777,
          0.00303104599179638,
          0.002956907540157943,
          0.0028774309499727284,
          0.002793525234964744,
          0.002706280691723591,
          0.002616910032567757,
          0.002526687623117993,
          0.002436890878632116,
          0.0023487471426092716,
          0.0022633884671957732,
          0.0021818157585524953,
          0.0021048728482874657,
          0.002033230285148869,
          0.0019673780583304126,
          0.001907626081568905,
          0.0018541110744208513,
          0.0018068084421946557,
          0.001765547836452916,
          0.0017300312290734236,
          0.0016998525148474045,
          0.001674517840384021,
          0.001653466021967936,
          0.0016360885539367942,
          0.001621748822152628,
          0.0016098002288577095,
          0.001599603011322196,
          0.0015905396012594808,
          0.001582028426019905,
          0.0015735360941215,
          0.0015645879331532507,
          0.0015547768543680558,
          0.0015437705048823875,
          0.0015313166390443485,
          0.0015172466036083717,
          0.0015014767990038406,
          0.0014840079649525676,
          0.0014649221554123696,
          0.0014443773234090083,
          0.0014225995321798192,
          0.0013998729387925959,
          0.0013765278462806103,
          0.0013529272712719093,
          0.001329452604836002,
          0.0013064890350643044,
          0.0012844114359024472,
          0.001263571400564688,
          0.0012442860106883077,
          0.001226828793696639,
          0.0012114231466711948,
          0.0011982383153598883,
          0.001187387832629541,
          0.0011789301605411378,
          0.0011728711587722137,
          0.0011691679280289712,
          0.0011677335528357225,
          0.0011684422903362897,
          0.0011711348125673078,
          0.0011756231981536976,
          0.0011816954733593684,
          0.0011891196100356574,
          0.0011976469888710076,
          0.0012070154222610736,
          0.0012169518962562111,
          0.0012271752317309492,
          0.0012373988792398068,
          0.00124733404942668,
          0.0012566933419857348,
          0.00126519497299885,
          0.0012725676166928457,
          0.0012785557791938392,
          0.00128292551719968,
          0.001285470214606596,
          0.001286016047694865,
          0.0012844267174692485,
          0.001280607017457866,
          0.0012745048441791386,
          0.001266111347399051,
          0.0012554590532370226,
          0.0012426179633186975,
          0.0012276898200045678,
          0.0012108009102211562,
          0.0011920939369035215,
          0.0011717195981813132,
          0.0011498285658262557,
          0.0011265645385323633,
          0.0011020589623071738,
          0.001076427866932512,
          0.0010497710776560193,
          0.0010221738430938744,
          0.000993710694444325,
          0.0009644511388172489,
          0.000934466610802301,
          0.0009038379784181707,
          0.0008726628349967952,
          0.0008410618144292109,
          0.0008091832440942341,
          0.0007772055913436858,
          0.0007453373525690598,
          0.0007138142598752912,
          0.0006828939166122147,
          0.000652848195459596,
          0.0006239539189333807,
          0.0005964824739593797,
          0.0005706890781632265,
          0.0005468024125479576,
          0.0005250152684880815,
          0.0005054767390682554,
          0.0004882863336078201,
          0.0004734902300161389,
          0.00046107972201021467,
          0.00045099178330601535,
          0.0004431115692606992,
          0.00043727661218948466,
          0.000433282437492109,
          0.00043088932651198845,
          0.0004298299683573325,
          0.0004298177656579651,
          0.0004305555788576799,
          0.00043174470384259664,
          0.0004330938763357942,
          0.00043432808553391144,
          0.00043519696412872786,
          0.0004354825090151865,
          0.00043500588332976407,
          0.00043363306080273204,
          0.0004312790994947858,
          0.0004279108721147577,
          0.00042354812960042267,
          0.0004182628270920885,
          0.0004121766904606227,
          0.0004054570426064774,
          0.0003983109404964003,
          0.00039097769891147956,
          0.00038371990127070767,
          0.0003768130300461706,
          0.00037053389774193134,
          0.0003651481304204115,
          0.00036089705097506157,
          0.00035798442416131295,
          0.0003565636483897794,
          0.00035672609299000374,
          0.0003584913626515295,
          0.0003618003008493332,
          0.00036651150208868126,
          0.0003724019764022417,
          0.00037917239629799707,
          0.00038645706572745456,
          0.0003938384040836171,
          0.00040086536754164667,
          0.00040707487387672944,
          0.00041201499591437716,
          0.0004152684801663842,
          0.00041647505926239835,
          0.00041535107449398086,
          0.000411705107206806,
          0.0004054486176535266,
          0.0003966009757037186,
          0.00038528869781899233,
          0.00037173913283229594,
          0.0003562692211132073,
          0.00033927025129533206,
          0.0003211897319792979,
          0.00030251157379488307,
          0.0002837357461267837,
          0.0002653584518221639,
          0.0002478536803027745,
          0.0002316567864219801,
          0.00021715052931697195,
          0.0002046538165655133,
          0.00019441324931849418,
          0.0001865974588149096,
          0.0001812941596296584,
          0.00017850980919583171,
          0.00017817174225690348,
          0.00018013262892644315,
          0.00018417707544472072,
          0.00019003014260305853,
          0.0001973674995265084,
          0.00020582686696177385,
          0.0002150203448916225,
          0.0002245471756043522,
          0.00023400647488776364,
          0.00024300947632783823,
          0.0002511908769609121,
          0.000258218941522595,
          0.0002638041077281959,
          0.0002677059246234494,
          0.00026973823851647876,
          0.00026977260742851584,
          0.00026773997086403583,
          0.0002636306276349357,
          0.00025749258586036663,
          0.00024942835476937897,
          0.0002395902573154248,
          0.00022817436428863847,
          0.00021541318952686915,
          0.00020156734206627216,
          0.00018691639953717952,
          0.0001717493382968101,
          0.00015635491751526815,
          0.0001410124541392519,
          0.00012598343283506757,
          0.00011150436323701282,
          0.00009778122507467663,
          0.00008498573474299495,
          0.00007325353444118345,
          0.00006268426063508636,
          0.000053343307493157334,
          0.00004526497791346157,
          0.00003845662230495213,
          0.00003290331219299829,
          0.000028572586244602444,
          0.000025418840034352425,
          0.000023387003116646093,
          0.000022415249607340684,
          0.000022436610981351226,
          0.000023379490334518835,
          0.00002516720385276425,
          0.00002771678625682244,
          0.000030937382575308786,
          0.00003472860089325674,
          0.000038979214573056033,
          0.00004356657586235881,
          0.00004835703730371584,
          0.00005320757809215515,
          0.00005796870811545065,
          0.00006248858444261872,
          0.00006661813713024441,
          0.0000702168777909792,
          0.00007315896903931563,
          0.0000753390769274322,
          0.00007667751916565342
         ],
         "yaxis": "y"
        },
        {
         "legendgroup": "Silver Medalist",
         "marker": {
          "color": "rgb(44, 160, 44)"
         },
         "mode": "lines",
         "name": "Silver Medalist",
         "showlegend": true,
         "type": "scatter",
         "x": [
          11,
          11.124,
          11.248,
          11.372,
          11.496,
          11.62,
          11.744,
          11.868,
          11.992,
          12.116,
          12.24,
          12.364,
          12.488,
          12.612,
          12.736,
          12.86,
          12.984,
          13.108,
          13.232,
          13.356,
          13.48,
          13.604,
          13.728,
          13.852,
          13.975999999999999,
          14.1,
          14.224,
          14.347999999999999,
          14.472,
          14.596,
          14.72,
          14.844,
          14.968,
          15.091999999999999,
          15.216000000000001,
          15.34,
          15.464,
          15.588000000000001,
          15.712,
          15.836,
          15.96,
          16.084,
          16.208,
          16.332,
          16.456,
          16.58,
          16.704,
          16.828,
          16.951999999999998,
          17.076,
          17.2,
          17.323999999999998,
          17.448,
          17.572,
          17.695999999999998,
          17.82,
          17.944,
          18.067999999999998,
          18.192,
          18.316,
          18.44,
          18.564,
          18.688,
          18.812,
          18.936,
          19.060000000000002,
          19.183999999999997,
          19.308,
          19.432000000000002,
          19.555999999999997,
          19.68,
          19.804000000000002,
          19.928,
          20.052,
          20.176000000000002,
          20.3,
          20.424,
          20.548000000000002,
          20.672,
          20.796,
          20.92,
          21.044,
          21.168,
          21.292,
          21.416,
          21.54,
          21.664,
          21.788,
          21.912,
          22.036,
          22.16,
          22.284,
          22.408,
          22.532,
          22.656,
          22.78,
          22.904,
          23.028,
          23.152,
          23.276,
          23.4,
          23.524,
          23.648,
          23.772,
          23.896,
          24.02,
          24.144,
          24.268,
          24.392,
          24.516,
          24.64,
          24.764,
          24.887999999999998,
          25.012,
          25.136,
          25.259999999999998,
          25.384,
          25.508,
          25.631999999999998,
          25.756,
          25.880000000000003,
          26.003999999999998,
          26.128,
          26.252000000000002,
          26.375999999999998,
          26.5,
          26.624000000000002,
          26.747999999999998,
          26.872,
          26.996000000000002,
          27.12,
          27.244,
          27.368,
          27.492,
          27.616,
          27.74,
          27.864,
          27.988,
          28.112,
          28.236,
          28.36,
          28.484,
          28.608,
          28.732,
          28.856,
          28.98,
          29.104,
          29.228,
          29.352,
          29.476,
          29.6,
          29.724,
          29.848,
          29.972,
          30.096,
          30.22,
          30.344,
          30.468,
          30.592,
          30.716,
          30.84,
          30.964,
          31.088,
          31.212,
          31.336,
          31.46,
          31.584,
          31.708,
          31.832,
          31.956,
          32.08,
          32.204,
          32.328,
          32.452,
          32.576,
          32.7,
          32.824,
          32.948,
          33.072,
          33.196,
          33.32,
          33.444,
          33.568,
          33.692,
          33.816,
          33.94,
          34.064,
          34.188,
          34.312,
          34.436,
          34.56,
          34.684,
          34.808,
          34.932,
          35.056,
          35.18,
          35.304,
          35.428,
          35.552,
          35.676,
          35.8,
          35.924,
          36.048,
          36.172,
          36.296,
          36.42,
          36.544,
          36.668,
          36.792,
          36.916,
          37.04,
          37.164,
          37.288,
          37.412,
          37.536,
          37.66,
          37.784,
          37.908,
          38.032,
          38.156,
          38.28,
          38.403999999999996,
          38.528,
          38.652,
          38.775999999999996,
          38.9,
          39.024,
          39.147999999999996,
          39.272,
          39.396,
          39.519999999999996,
          39.644,
          39.768,
          39.891999999999996,
          40.016,
          40.14,
          40.263999999999996,
          40.388000000000005,
          40.512,
          40.635999999999996,
          40.760000000000005,
          40.884,
          41.007999999999996,
          41.132000000000005,
          41.256,
          41.379999999999995,
          41.504000000000005,
          41.628,
          41.751999999999995,
          41.876000000000005,
          42,
          42.123999999999995,
          42.248000000000005,
          42.372,
          42.495999999999995,
          42.620000000000005,
          42.744,
          42.867999999999995,
          42.992000000000004,
          43.116,
          43.24,
          43.364,
          43.488,
          43.612,
          43.736,
          43.86,
          43.984,
          44.108,
          44.232,
          44.356,
          44.48,
          44.604,
          44.728,
          44.852,
          44.976,
          45.1,
          45.224,
          45.348,
          45.472,
          45.596,
          45.72,
          45.844,
          45.968,
          46.092,
          46.216,
          46.34,
          46.464,
          46.588,
          46.712,
          46.836,
          46.96,
          47.084,
          47.208,
          47.332,
          47.456,
          47.58,
          47.704,
          47.828,
          47.952,
          48.076,
          48.2,
          48.324,
          48.448,
          48.572,
          48.696,
          48.82,
          48.944,
          49.068,
          49.192,
          49.316,
          49.44,
          49.564,
          49.688,
          49.812,
          49.936,
          50.06,
          50.184,
          50.308,
          50.432,
          50.556,
          50.68,
          50.804,
          50.928,
          51.052,
          51.176,
          51.3,
          51.424,
          51.548,
          51.672,
          51.796,
          51.92,
          52.044,
          52.168,
          52.292,
          52.416,
          52.54,
          52.664,
          52.788,
          52.912,
          53.036,
          53.16,
          53.284,
          53.408,
          53.532,
          53.656,
          53.78,
          53.904,
          54.028,
          54.152,
          54.276,
          54.4,
          54.524,
          54.648,
          54.772,
          54.896,
          55.02,
          55.144,
          55.268,
          55.392,
          55.516,
          55.64,
          55.764,
          55.888,
          56.012,
          56.136,
          56.26,
          56.384,
          56.508,
          56.632,
          56.756,
          56.88,
          57.004,
          57.128,
          57.252,
          57.376,
          57.5,
          57.624,
          57.748,
          57.872,
          57.996,
          58.12,
          58.244,
          58.368,
          58.492,
          58.616,
          58.74,
          58.864,
          58.988,
          59.112,
          59.236,
          59.36,
          59.484,
          59.608,
          59.732,
          59.856,
          59.98,
          60.104,
          60.228,
          60.352,
          60.476,
          60.6,
          60.724,
          60.848,
          60.972,
          61.096,
          61.22,
          61.344,
          61.468,
          61.592,
          61.716,
          61.84,
          61.964,
          62.088,
          62.212,
          62.336,
          62.46,
          62.584,
          62.708,
          62.832,
          62.956,
          63.08,
          63.204,
          63.328,
          63.452,
          63.576,
          63.7,
          63.824,
          63.948,
          64.072,
          64.196,
          64.32,
          64.444,
          64.568,
          64.69200000000001,
          64.816,
          64.94,
          65.064,
          65.188,
          65.312,
          65.436,
          65.56,
          65.684,
          65.80799999999999,
          65.932,
          66.056,
          66.18,
          66.304,
          66.428,
          66.55199999999999,
          66.676,
          66.8,
          66.924,
          67.048,
          67.172,
          67.29599999999999,
          67.42,
          67.544,
          67.668,
          67.792,
          67.916,
          68.03999999999999,
          68.164,
          68.288,
          68.412,
          68.536,
          68.66,
          68.78399999999999,
          68.908,
          69.032,
          69.156,
          69.28,
          69.404,
          69.52799999999999,
          69.652,
          69.77600000000001,
          69.9,
          70.024,
          70.148,
          70.27199999999999,
          70.396,
          70.52000000000001,
          70.644,
          70.768,
          70.892,
          71.01599999999999,
          71.14,
          71.26400000000001,
          71.388,
          71.512,
          71.636,
          71.75999999999999,
          71.884,
          72.00800000000001,
          72.132,
          72.256,
          72.38,
          72.50399999999999,
          72.628,
          72.75200000000001,
          72.876
         ],
         "xaxis": "x",
         "y": [
          0.0002569045968595905,
          0.0002898191750607992,
          0.0003251377996766876,
          0.00036305348531334177,
          0.00040386357061481697,
          0.00044799067074805345,
          0.0004959976658369032,
          0.0005485935615292172,
          0.0006066274456516769,
          0.0006710687091462572,
          0.000742973191157078,
          0.0008234368301102807,
          0.0009135405258975613,
          0.0010142919202001427,
          0.0011265713075271817,
          0.0012510895319470738,
          0.0013883652172415886,
          0.0015387268858159523,
          0.0017023425146704611,
          0.001879275156654218,
          0.0020695589395378663,
          0.0022732857187668515,
          0.002490689636990292,
          0.002722215508603202,
          0.002968557788193165,
          0.00323066009112848,
          0.0035096706405481244,
          0.003806856060667164,
          0.004123483717143436,
          0.0044606901634666124,
          0.004819358920225211,
          0.005200033594008007,
          0.005602891305433309,
          0.0060277960730366715,
          0.006474442339813694,
          0.006942586081771753,
          0.007432346435794285,
          0.007944546601082968,
          0.008481051252403823,
          0.009045051112183119,
          0.009641245422032329,
          0.010275880715940518,
          0.010956619263524127,
          0.011692231316009478,
          0.012492129217255267,
          0.013365785108346144,
          0.014322093635973933,
          0.01536875336188273,
          0.0165117429682211,
          0.01775495978005148,
          0.019100069205582028,
          0.02054658677075707,
          0.02209218326882008,
          0.023733172784124634,
          0.025465117703958626,
          0.027283468304430184,
          0.029184149665364166,
          0.031164016241663938,
          0.03322111313080824,
          0.03535470995693246,
          0.037565104220383054,
          0.03985322138850577,
          0.0422200646835458,
          0.04466608512934875,
          0.04719054995220021,
          0.049790984411807446,
          0.05246274957605711,
          0.055198798742569465,
          0.05798963136846571,
          0.06082343914635234,
          0.06368641776185352,
          0.06656320264961041,
          0.06943737926725775,
          0.07229201808506992,
          0.07511019029429192,
          0.07787542984460068,
          0.08057211820353019,
          0.08318577798577319,
          0.08570326909782133,
          0.0881128862144126,
          0.09040436012230624,
          0.09256876902543149,
          0.09459837039179245,
          0.09648636974646878,
          0.09822664953536997,
          0.09981348766999033,
          0.10124130017434647,
          0.1025044441641953,
          0.10359711528407119,
          0.10451336733070135,
          0.10524727123038052,
          0.10579321639077593,
          0.10614634074116919,
          0.1063030580567145,
          0.10626163454770703,
          0.10602275375912927,
          0.10559000223460839,
          0.10497021029421062,
          0.10417359358531024,
          0.10321366098562097,
          0.10210688032907089,
          0.1008721212424111,
          0.09952991954832069,
          0.09810162617247838,
          0.09660851272556409,
          0.09507090532716908,
          0.09350740913479172,
          0.09193427115163212,
          0.09036491148740894,
          0.08880963634819711,
          0.08727553178878149,
          0.08576652670893249,
          0.08428360668936646,
          0.08282515625013588,
          0.08138740479439209,
          0.07996494970512423,
          0.07855132796092458,
          0.07713960497123801,
          0.07572294651745654,
          0.074295137749721,
          0.07285101352228945,
          0.07138676831407477,
          0.06990012243671527,
          0.06839033414012298,
          0.06685806344605878,
          0.06530511093281875,
          0.06373407050644778,
          0.06214794664547745,
          0.06054979149394071,
          0.05894241434454307,
          0.05732820560305843,
          0.05570910056670813,
          0.05408668753956795,
          0.05246244278121919,
          0.05083805456828856,
          0.049215783104916234,
          0.047598794522205314,
          0.04599140733559409,
          0.044399198986294866,
          0.04282893769803216,
          0.04128832872121074,
          0.039785590843172444,
          0.03832890482521559,
          0.03692579611658626,
          0.03558252637840141,
          0.03430356991544552,
          0.03309124166941823,
          0.031945524383751055,
          0.030864116858185235,
          0.02984269682090775,
          0.028875365112955742,
          0.027955216454792993,
          0.027074968895839494,
          0.02622758057808307,
          0.025406788565328332,
          0.024607518644996176,
          0.02382613453735454,
          0.023060516584247737,
          0.022309980456044324,
          0.021575062969673996,
          0.02085721296660911,
          0.020158429732508823,
          0.019480890143755158,
          0.018826599954661724,
          0.018197096207298074,
          0.01759321849550174,
          0.017014958247996252,
          0.01646138824976361,
          0.015930669609308445,
          0.015420130084403011,
          0.0149264055456203,
          0.014445634730109973,
          0.013973695780091893,
          0.01350647110966574,
          0.013040124982254302,
          0.01257137620771812,
          0.012097747179935824,
          0.011617770689539314,
          0.011131138002658632,
          0.010638775694786676,
          0.01014284434832314,
          0.009646658754951265,
          0.009154535761843269,
          0.008671581401527115,
          0.008203432712492954,
          0.0077559713625609044,
          0.0073350259754124516,
          0.006946078480993997,
          0.006593987625265755,
          0.006282740713673282,
          0.006015243195122232,
          0.0057931548911605716,
          0.005616781208272639,
          0.005485026934487569,
          0.005395418553888001,
          0.00534419794037175,
          0.005326485722446444,
          0.005336506918083373,
          0.005367865415658158,
          0.005413848564935876,
          0.005467739583370108,
          0.005523114464216165,
          0.005574101925942652,
          0.005615589455725089,
          0.005643364961590442,
          0.005654190905786884,
          0.005645814885117847,
          0.005616926423659779,
          0.005567073543270434,
          0.005496554190978716,
          0.0054062969548937375,
          0.005297743134347234,
          0.005172738764556459,
          0.00503344128430626,
          0.004882241757206291,
          0.0047217003645448575,
          0.004554490593666828,
          0.004383346340283791,
          0.004211006110555091,
          0.004040149630652163,
          0.0038733243130566505,
          0.0037128619215131453,
          0.0035607890152225155,
          0.0034187378241865214,
          0.003287866555693144,
          0.0031687992531769966,
          0.003061594875859057,
          0.002965753136976713,
          0.0028802610164304233,
          0.002803679217611688,
          0.0027342628495748526,
          0.0026701060671597667,
          0.0026092970387490426,
          0.0025500680067492066,
          0.0024909256526569816,
          0.0024307494338451315,
          0.002368849650044909,
          0.0023049820879893993,
          0.0022393213988946108,
          0.002172400093127474,
          0.0021050235251199173,
          0.0020381730587531537,
          0.0019729096090636625,
          0.0019102881009220442,
          0.0018512904596234756,
          0.0017967810953479514,
          0.0017474850581725558,
          0.0017039856742989798,
          0.001666735961869013,
          0.0016360767390983537,
          0.001612254174761023,
          0.0015954305201539788,
          0.001585683690001015,
          0.00158299390932116,
          0.00158721843175054,
          0.0015980579590514862,
          0.0016150204723838588,
          0.0016373894124431102,
          0.0016642033162222747,
          0.0016942530735997504,
          0.001726101008372429,
          0.0017581232745682782,
          0.0017885739778758032,
          0.0018156664468095512,
          0.0018376646528770104,
          0.0018529762971883842,
          0.001860238773291046,
          0.0018583901134978866,
          0.0018467189522528324,
          0.001824890147024408,
          0.001792945537324636,
          0.0017512819413637614,
          0.0017006105167322752,
          0.0016419028251772126,
          0.0015763292973825518,
          0.0015051954074025774,
          0.0014298799631262194,
          0.00135177876473117,
          0.0012722557182422711,
          0.0011926024853784007,
          0.0011140069840420493,
          0.0010375305268679864,
          0.0009640930479194707,
          0.0008944656526237674,
          0.0008292695771060978,
          0.0007689805297265656,
          0.0007139373055630146,
          0.0006643535258323797,
          0.0006203313734893713,
          0.0005818762797098746,
          0.0005489116565211326,
          0.0005212929497617153,
          0.0004988204797820054,
          0.00048125072273636984,
          0.00046830584817266743,
          0.00045968146316952566,
          0.00045505262123122077,
          0.0004540782410979483,
          0.00045640415228422754,
          0.0004616650440206618,
          0.00046948564312030593,
          0.00047948148305574484,
          0.0004912596495227281,
          0.0005044198951614358,
          0.000518556505311091,
          0.000533261262934235,
          0.0005481277962900645,
          0.0005627574873573421,
          0.000576766963209927,
          0.0005897969839089885,
          0.0006015222891153779,
          0.0006116616986723953,
          0.0006199875238531157,
          0.000626333190654402,
          0.0006305979587236481,
          0.0006327477785326779,
          0.0006328116761721966,
          0.0006308735637798581,
          0.0006270599812402432,
          0.0006215248900403675,
          0.0006144331589647961,
          0.0006059447062889654,
          0.0005962013222183539,
          0.0005853179558212166,
          0.0005733797262686754,
          0.0005604451681289502,
          0.000546555342047655,
          0.000531747557643369,
          0.0005160716955798271,
          0.0004996066015226658,
          0.0004824738492158426,
          0.0004648463827140623,
          0.00044695014346750594,
          0.00042905770203582313,
          0.00041147402821701504,
          0.0003945156894408872,
          0.00037848579120149524,
          0.0003636477026102342,
          0.0003502009221310151,
          0.0003382622728526028,
          0.0003278549876593948,
          0.0003189072409727044,
          0.0003112604543915005,
          0.0003046864335532191,
          0.00029891127303492134,
          0.0002936431590776089,
          0.00028860081765362804,
          0.00028353943969367787,
          0.0002782714337712797,
          0.0002726802107093716,
          0.00026672624861628,
          0.0002604457534655396,
          0.00025394315859286987,
          0.0002473793668454632,
          0.00024095795131101703,
          0.0002349114720141724,
          0.0002294896704509927,
          0.00022495065175837884,
          0.00022155536772695654,
          0.00021956489926264203,
          0.00021923932876379007,
          0.00022083649963545603,
          0.0002246087631763925,
          0.0002307959583921735,
          0.0002396133626124212,
          0.0002512341496262522,
          0.00026576691076768855,
          0.00028322990377824904,
          0.00030352473250829133,
          0.00032641295073190503,
          0.000351499458687684,
          0.0003782263944562281,
          0.00040588045665052643,
          0.00043361526547439034,
          0.0004604886131978189,
          0.000485512501787882,
          0.0005077120058540574,
          0.0005261875384748916,
          0.0005401742988974306,
          0.0005490927117308609,
          0.0005525845601737024,
          0.0005505311570345107,
          0.0005430520426015121,
          0.0005304850173409774,
          0.0005133504552032738,
          0.0004923044869464403,
          0.0004680865764990073,
          0.00044146715156271086,
          0.00041320034259600415,
          0.00038398569609982605,
          0.0003544411954223407,
          0.00032508830452598577,
          0.00029634828253196786,
          0.00026854787537549014,
          0.00024193177407485532,
          0.0002166789566156273,
          0.00019292015534726382,
          0.00017075412100855058,
          0.00015026097202312165,
          0.00013151160611366952,
          0.00011457280881599375,
          0.00009950824538292275,
          0.00008637592651482817,
          0.00007522298426125737,
          0.00006607869951597519,
          0.000058946722505897214,
          0.000053797365723367254,
          0.000050560764031464835,
          0.000049121614767225394,
          0.00004931613804078975,
          0.00005093182135126798,
          0.00005371040684167065,
          0.00005735441433065031,
          0.00006153724773726467,
          0.00006591660518995198,
          0.00007015052822286193,
          0.00007391503242362943,
          0.00007692192747519387,
          0.00007893522919624593,
          0.0000797845477082064,
          0.00007937403426587702,
          0.0000776858770336798,
          0.00007477790621491488,
          0.00007077552206010723,
          0.0000658587979667698,
          0.00006024613826255202,
          0.00005417620855196265,
          0.000047889961324966424,
          0.00004161444694478412,
          0.0000355497652249949,
          0.000029860040521393863,
          0.00002466877413866172,
          0.000020058422034206105,
          0.000016073628909200007,
          0.000012727263322125903,
          0.00001000825625382037,
          0.000007890236020541048,
          0.0000063400455249563695,
          0.000005325384449043947,
          0.000004821000592042928,
          0.0000048130310214146846,
          0.0000053012480556894015,
          0.0000062990945401701745,
          0.000007831506365691851,
          0.000009930633320762829,
          0.000012629697858071698,
          0.000015955384417433465,
          0.000019919327148840153,
          0.00002450944460885209,
          0.00002968202639916569,
          0.000035355570291899265,
          0.00004140735982398402,
          0.00004767363113630148,
          0.00005395389180815225,
          0.00006001953685939223,
          0.00006562639923700004,
          0.0000705303399239237,
          0.0000745045075584212,
          0.00007735656158159647,
          0.00007894402392289602,
          0.0000791860398621536,
          0.00007807018720909823,
          0.00007565353071237566,
          0.00007205779640879127,
          0.00006745923729575702,
          0.00006207437262915502,
          0.00005614321940861394,
          0.00004991183882264558,
          0.000043615975802491735,
          0.00003746730089857971,
          0.00003164332889136508,
          0.000026281566873098377,
          0.000021477919454663273,
          0.000017288923005267477,
          0.000013737045160277645,
          0.000010818093430432913,
          0.000008509723847604148,
          0.00000678010217166158,
          0.000005595908922679391,
          0.000004929055586368879,
          0.000004761659130136408,
          0.000005088983842539742,
          0.000005920196120509968,
          0.000007276894724597951,
          0.000009189490286683858,
          0.000011691629868865365,
          0.0000148130070845556,
          0.000018571067442122744,
          0.00002296230018742205,
          0.00002795397608040782,
          0.000033477308817469973,
          0.000039423046154585,
          0.00004564040075525112,
          0.00005193999135315985,
          0.00005810108650404769,
          0.00006388295830587401,
          0.00006903962072768875,
          0.00007333672427286826,
          0.00007656898939837215,
          0.0000785763594676792
         ],
         "yaxis": "y"
        },
        {
         "legendgroup": "Bronze Medalist",
         "marker": {
          "color": "rgb(214, 39, 40)"
         },
         "mode": "lines",
         "name": "Bronze Medalist",
         "showlegend": true,
         "type": "scatter",
         "x": [
          10,
          10.124,
          10.248,
          10.372,
          10.496,
          10.62,
          10.744,
          10.868,
          10.992,
          11.116,
          11.24,
          11.364,
          11.488,
          11.612,
          11.736,
          11.86,
          11.984,
          12.108,
          12.232,
          12.356,
          12.48,
          12.604,
          12.728,
          12.852,
          12.975999999999999,
          13.1,
          13.224,
          13.347999999999999,
          13.472,
          13.596,
          13.72,
          13.844,
          13.968,
          14.091999999999999,
          14.216000000000001,
          14.34,
          14.464,
          14.588000000000001,
          14.712,
          14.836,
          14.96,
          15.084,
          15.208,
          15.332,
          15.456,
          15.58,
          15.704,
          15.828,
          15.952,
          16.076,
          16.2,
          16.323999999999998,
          16.448,
          16.572,
          16.695999999999998,
          16.82,
          16.944,
          17.067999999999998,
          17.192,
          17.316,
          17.44,
          17.564,
          17.688,
          17.812,
          17.936,
          18.060000000000002,
          18.183999999999997,
          18.308,
          18.432000000000002,
          18.555999999999997,
          18.68,
          18.804000000000002,
          18.928,
          19.052,
          19.176000000000002,
          19.3,
          19.424,
          19.548000000000002,
          19.672,
          19.796,
          19.92,
          20.044,
          20.168,
          20.292,
          20.416,
          20.54,
          20.664,
          20.788,
          20.912,
          21.036,
          21.16,
          21.284,
          21.408,
          21.532,
          21.656,
          21.78,
          21.904,
          22.028,
          22.152,
          22.276,
          22.4,
          22.524,
          22.648,
          22.772,
          22.896,
          23.02,
          23.144,
          23.268,
          23.392,
          23.516,
          23.64,
          23.764,
          23.887999999999998,
          24.012,
          24.136,
          24.259999999999998,
          24.384,
          24.508,
          24.631999999999998,
          24.756,
          24.880000000000003,
          25.003999999999998,
          25.128,
          25.252000000000002,
          25.375999999999998,
          25.5,
          25.624000000000002,
          25.747999999999998,
          25.872,
          25.996000000000002,
          26.12,
          26.244,
          26.368,
          26.492,
          26.616,
          26.74,
          26.864,
          26.988,
          27.112,
          27.236,
          27.36,
          27.484,
          27.608,
          27.732,
          27.856,
          27.98,
          28.104,
          28.228,
          28.352,
          28.476,
          28.6,
          28.724,
          28.848,
          28.972,
          29.096,
          29.22,
          29.344,
          29.468,
          29.592,
          29.716,
          29.84,
          29.964,
          30.088,
          30.212,
          30.336,
          30.46,
          30.584,
          30.708,
          30.832,
          30.956,
          31.08,
          31.204,
          31.328,
          31.452,
          31.576,
          31.7,
          31.824,
          31.948,
          32.072,
          32.196,
          32.32,
          32.444,
          32.568,
          32.692,
          32.816,
          32.94,
          33.064,
          33.188,
          33.312,
          33.436,
          33.56,
          33.684,
          33.808,
          33.932,
          34.056,
          34.18,
          34.304,
          34.428,
          34.552,
          34.676,
          34.8,
          34.924,
          35.048,
          35.172,
          35.296,
          35.42,
          35.544,
          35.668,
          35.792,
          35.916,
          36.04,
          36.164,
          36.288,
          36.412,
          36.536,
          36.66,
          36.784,
          36.908,
          37.032,
          37.156,
          37.28,
          37.403999999999996,
          37.528,
          37.652,
          37.775999999999996,
          37.9,
          38.024,
          38.147999999999996,
          38.272,
          38.396,
          38.519999999999996,
          38.644,
          38.768,
          38.891999999999996,
          39.016,
          39.14,
          39.263999999999996,
          39.388000000000005,
          39.512,
          39.635999999999996,
          39.760000000000005,
          39.884,
          40.007999999999996,
          40.132000000000005,
          40.256,
          40.379999999999995,
          40.504000000000005,
          40.628,
          40.751999999999995,
          40.876000000000005,
          41,
          41.123999999999995,
          41.248000000000005,
          41.372,
          41.495999999999995,
          41.620000000000005,
          41.744,
          41.867999999999995,
          41.992000000000004,
          42.116,
          42.24,
          42.364,
          42.488,
          42.612,
          42.736,
          42.86,
          42.984,
          43.108,
          43.232,
          43.356,
          43.48,
          43.604,
          43.728,
          43.852,
          43.976,
          44.1,
          44.224,
          44.348,
          44.472,
          44.596,
          44.72,
          44.844,
          44.968,
          45.092,
          45.216,
          45.34,
          45.464,
          45.588,
          45.712,
          45.836,
          45.96,
          46.084,
          46.208,
          46.332,
          46.456,
          46.58,
          46.704,
          46.828,
          46.952,
          47.076,
          47.2,
          47.324,
          47.448,
          47.572,
          47.696,
          47.82,
          47.944,
          48.068,
          48.192,
          48.316,
          48.44,
          48.564,
          48.688,
          48.812,
          48.936,
          49.06,
          49.184,
          49.308,
          49.432,
          49.556,
          49.68,
          49.804,
          49.928,
          50.052,
          50.176,
          50.3,
          50.424,
          50.548,
          50.672,
          50.796,
          50.92,
          51.044,
          51.168,
          51.292,
          51.416,
          51.54,
          51.664,
          51.788,
          51.912,
          52.036,
          52.16,
          52.284,
          52.408,
          52.532,
          52.656,
          52.78,
          52.904,
          53.028,
          53.152,
          53.276,
          53.4,
          53.524,
          53.648,
          53.772,
          53.896,
          54.02,
          54.144,
          54.268,
          54.392,
          54.516,
          54.64,
          54.764,
          54.888,
          55.012,
          55.136,
          55.26,
          55.384,
          55.508,
          55.632,
          55.756,
          55.88,
          56.004,
          56.128,
          56.252,
          56.376,
          56.5,
          56.624,
          56.748,
          56.872,
          56.996,
          57.12,
          57.244,
          57.368,
          57.492,
          57.616,
          57.74,
          57.864,
          57.988,
          58.112,
          58.236,
          58.36,
          58.484,
          58.608,
          58.732,
          58.856,
          58.98,
          59.104,
          59.228,
          59.352,
          59.476,
          59.6,
          59.724,
          59.848,
          59.972,
          60.096,
          60.22,
          60.344,
          60.468,
          60.592,
          60.716,
          60.84,
          60.964,
          61.088,
          61.212,
          61.336,
          61.46,
          61.584,
          61.708,
          61.832,
          61.956,
          62.08,
          62.204,
          62.328,
          62.452,
          62.576,
          62.7,
          62.824,
          62.948,
          63.072,
          63.196,
          63.32,
          63.444,
          63.568,
          63.692,
          63.816,
          63.94,
          64.064,
          64.188,
          64.312,
          64.436,
          64.56,
          64.684,
          64.80799999999999,
          64.932,
          65.056,
          65.18,
          65.304,
          65.428,
          65.55199999999999,
          65.676,
          65.8,
          65.924,
          66.048,
          66.172,
          66.29599999999999,
          66.42,
          66.544,
          66.668,
          66.792,
          66.916,
          67.03999999999999,
          67.164,
          67.288,
          67.412,
          67.536,
          67.66,
          67.78399999999999,
          67.908,
          68.032,
          68.156,
          68.28,
          68.404,
          68.52799999999999,
          68.652,
          68.77600000000001,
          68.9,
          69.024,
          69.148,
          69.27199999999999,
          69.396,
          69.52000000000001,
          69.644,
          69.768,
          69.892,
          70.01599999999999,
          70.14,
          70.26400000000001,
          70.388,
          70.512,
          70.636,
          70.75999999999999,
          70.884,
          71.00800000000001,
          71.132,
          71.256,
          71.38,
          71.50399999999999,
          71.628,
          71.75200000000001,
          71.876
         ],
         "xaxis": "x",
         "y": [
          0.00009211442021703725,
          0.0000963621107172641,
          0.00010045579630499953,
          0.00010465102443021687,
          0.00010923593692182287,
          0.00011450235328283621,
          0.00012071558147585378,
          0.00012808735409576007,
          0.00013675625008984874,
          0.00014677925936013988,
          0.00015813683550871516,
          0.00017075201894896014,
          0.00018452224042916763,
          0.00019936052487318725,
          0.00021524130312899326,
          0.0002322451567945206,
          0.0002505967332064781,
          0.0002706908192422981,
          0.0002931030671220984,
          0.000318583913430706,
          0.000348036522647263,
          0.0003824817731899833,
          0.00042301505555339847,
          0.00047076070719056514,
          0.0005268301221355909,
          0.0005922889410688739,
          0.000668137385973095,
          0.0007553060011235263,
          0.0008546671087424817,
          0.0009670604917669732,
          0.0010933304240238976,
          0.0012343703184220498,
          0.0013911709696021414,
          0.0015648685289890356,
          0.001756788794326412,
          0.001968484931345005,
          0.0022017662177966314,
          0.0024587157323390724,
          0.002741695119075836,
          0.0030533347443680433,
          0.003396507883232349,
          0.0037742882000846596,
          0.00418989086284885,
          0.00464659921297922,
          0.005147680950484248,
          0.005696300077573184,
          0.006295433015577533,
          0.006947798878064081,
          0.007655814308460301,
          0.008421582105668577,
          0.009246919820644654,
          0.010133429720309034,
          0.011082605513414202,
          0.012095964927412375,
          0.013175191748985017,
          0.014322267404381285,
          0.0155395713845085,
          0.0168299321529441,
          0.018196615387587205,
          0.01964324377040459,
          0.021173650991863607,
          0.02279168098641703,
          0.02450095052493032,
          0.026304598192223035,
          0.028205044745829543,
          0.03020378845647499,
          0.03230125422588215,
          0.034496707508901395,
          0.0367882343454528,
          0.03917277866617498,
          0.04164621930469755,
          0.044203463563752945,
          0.04683853292321254,
          0.049544619817045575,
          0.052314101608604016,
          0.05513850744521272,
          0.05800844374919779,
          0.060913493092666644,
          0.06384210805692533,
          0.06678152593843954,
          0.06971773171308192,
          0.07263549536634242,
          0.07551850516515161,
          0.07834961021128992,
          0.08111117356200799,
          0.08378552214487756,
          0.08635546371185455,
          0.08880482732761671,
          0.09111897582063894,
          0.0932852388506587,
          0.09529322448460692,
          0.09713498378688097,
          0.09880502328271039,
          0.10030017972334816,
          0.10161938639325925,
          0.10276336801188041,
          0.10373430205530758,
          0.10453547982880863,
          0.10517099344447747,
          0.10564546727541546,
          0.10596384570540421,
          0.10613124319602965,
          0.10615285736021562,
          0.1060339404719923,
          0.10577981985070702,
          0.10539595361044854,
          0.10488800625487733,
          0.10426192891893643,
          0.1035240312283328,
          0.10268103453083816,
          0.10174009825669983,
          0.10070881160097547,
          0.09959514192888952,
          0.09840733071855448,
          0.0971537293992765,
          0.0958425726173344,
          0.09448169554555912,
          0.09307821360136904,
          0.0916381948832987,
          0.09016636486669576,
          0.0886658869390721,
          0.087138259813405,
          0.08558336363629206,
          0.08399967172573736,
          0.08238462610103771,
          0.08073515450132424,
          0.07904828688437734,
          0.07732181307902047,
          0.07555491296863874,
          0.07374868857044305,
          0.07190653493539224,
          0.07003430363895284,
          0.06814023657552491,
          0.06623467493921954,
          0.0643295739237962,
          0.06243787336765897,
          0.060572785356873236,
          0.0587470609624699,
          0.05697229139325559,
          0.05525828709113237,
          0.05361256542200701,
          0.05203996675973079,
          0.05054241163012301,
          0.049118808162667775,
          0.04776511789570741,
          0.04647458665648484,
          0.045238143382533576,
          0.04404496161874911,
          0.042883165462748736,
          0.041740644853244184,
          0.040605926660668125,
          0.0394690315235594,
          0.03832223575465421,
          0.03716065654152659,
          0.03598258943070732,
          0.034789549982976786,
          0.03358600432263742,
          0.03237881157306575,
          0.031176438831858975,
          0.029988040011498403,
          0.02882250818245852,
          0.027687613770038776,
          0.026589327610630504,
          0.02553140078159867,
          0.02451523680415533,
          0.023540052064352876,
          0.022603283078414256,
          0.021701169745799616,
          0.020829425699248238,
          0.019983902093776568,
          0.019161159492379,
          0.018358881875067165,
          0.017576093726231395,
          0.016813171252762202,
          0.016071667457412887,
          0.015353993963719387,
          0.014663017238453967,
          0.014001631831920323,
          0.01337236878241952,
          0.012777085204819478,
          0.012216764098248404,
          0.011691434751129558,
          0.011200206777343864,
          0.010741397104620857,
          0.010312720547900318,
          0.009911511347407307,
          0.009534944777576066,
          0.00918023353838467,
          0.008844781652851286,
          0.008526287444642669,
          0.008222795437787247,
          0.007932703624181178,
          0.007654736853117947,
          0.007387898956003971,
          0.007131415888515752,
          0.006884680196672151,
          0.006647204162895207,
          0.006418585710541807,
          0.006198488062471504,
          0.005986631614800338,
          0.005782794695525555,
          0.005586818900606549,
          0.005398614522418453,
          0.005218162127016687,
          0.005045507456229664,
          0.004880748326616395,
          0.004724013819331692,
          0.004575437535175985,
          0.004435127789753376,
          0.004303138185140375,
          0.004179441967356277,
          0.004063913027632373,
          0.003956315483340322,
          0.0038563026800293673,
          0.003763425385821483,
          0.003677148059824043,
          0.003596871461833944,
          0.0035219595584987206,
          0.0034517686373671773,
          0.0033856766848135004,
          0.003323111311425193,
          0.003263574715036939,
          0.0032066642833803705,
          0.0031520874376802827,
          0.0030996692578729814,
          0.003049351425503227,
          0.003001181221810838,
          0.0029552898625252563,
          0.002911860408091304,
          0.002871086822969601,
          0.002833127314362667,
          0.002798056600649356,
          0.0027658229279192426,
          0.002736216160869857,
          0.0027088528856660183,
          0.002683183067802479,
          0.0026585204605051823,
          0.0026340958852101564,
          0.0026091290901249916,
          0.0025829116372339186,
          0.0025548907223676347,
          0.002524742507095108,
          0.002492423807378179,
          0.0024581929877920687,
          0.002422594512739436,
          0.0023864063756811097,
          0.0023505548900800265,
          0.002316006270510595,
          0.0022836482511455723,
          0.0022541770226202342,
          0.0022280046289755487,
          0.00220519960976051,
          0.002185469409604125,
          0.0021681875255463064,
          0.002152462343881965,
          0.002137239029714435,
          0.0021214215009631152,
          0.002103999069660691,
          0.002084162089801951,
          0.002061392880879153,
          0.0020355219213036807,
          0.002006744172145698,
          0.001975595591700183,
          0.001942894626283799,
          0.0019096570510694297,
          0.0018769945877432292,
          0.001846008161531389,
          0.0018176856982122596,
          0.0017928124433015359,
          0.0017718994520648556,
          0.0017551336593622747,
          0.0017423511565908439,
          0.0017330341298495036,
          0.001726331274502645,
          0.0017211011414583546,
          0.0017159774423152973,
          0.001709454516211127,
          0.0016999897421578298,
          0.00168611767925803,
          0.0016665683884859994,
          0.001640380200418234,
          0.0016069957292125828,
          0.001566329761439405,
          0.0015187991654030588,
          0.0014653082692624366,
          0.0014071879730360116,
          0.0013460925643863657,
          0.0012838639199862741,
          0.001222377523357275,
          0.0011633876521298964,
          0.0011083896025021584,
          0.0010585147512999498,
          0.001014469875036222,
          0.0009765261129241423,
          0.0009445562093811653,
          0.0009181122362363843,
          0.0008965308365534141,
          0.000879049884448086,
          0.0008649197199110018,
          0.0008534938187785249,
          0.0008442875595134793,
          0.0008369990229139601,
          0.0008314916958096739,
          0.0008277446726752457,
          0.0008257806519587794,
          0.0008255850715611303,
          0.0008270307368086442,
          0.0008298211751985797,
          0.000833462913572902,
          0.00083727238703562,
          0.0008404179230366873,
          0.0008419919704397114,
          0.0008411042292896131,
          0.0008369832337076999,
          0.0008290726841535816,
          0.0008171095669070634,
          0.0008011736758198657,
          0.0007817021140787406,
          0.0007594670412489559,
          0.0007355195901056293,
          0.0007111068002187026,
          0.0006875710651667391,
          0.0006662426960381949,
          0.0006483357928670587,
          0.0006348559848543954,
          0.0006265262310390073,
          0.0006237343109374955,
          0.000626503362663021,
          0.0006344851621148014,
          0.000646974878017187,
          0.0006629456626071488,
          0.0006811013655485188,
          0.0006999455464554167,
          0.0007178645168775872,
          0.0007332212203289639,
          0.0007444554156839137,
          0.0007501841219418527,
          0.0007492950075251576,
          0.0007410247964273634,
          0.0007250151612750363,
          0.0007013401313994996,
          0.0006705016609007063,
          0.000633393326844676,
          0.0005912356306554265,
          0.000545489463340639,
          0.0004977564465239221,
          0.0004496757443493872,
          0.0004028264815815174,
          0.00035864328751761254,
          0.00031835010352292945,
          0.00028291473458664617,
          0.000253024166421345,
          0.00022907876637292534,
          0.00021120231823239664,
          0.00019926440019007286,
          0.00019291174413788698,
          0.0001916056745840585,
          0.00019466327392990708,
          0.0002013003753646401,
          0.00021067475878298097,
          0.00022192803044210577,
          0.0002342246856624804,
          0.00024678689436769447,
          0.00025892370157605624,
          0.00027005363804590205,
          0.0002797201673019154,
          0.00028759988135667876,
          0.0002935038038982216,
          0.00029737248402646736,
          0.00029926572353515193,
          0.00029934778748107107,
          0.0002978688608351602,
          0.0002951434198949123,
          0.0002915261696759181,
          0.00028738631016111694,
          0.00028308113743756645,
          0.00027893030914996674,
          0.00027519241483732644,
          0.00027204568113290263,
          0.00026957461252022304,
          0.00026776406266917766,
          0.0002665016485475398,
          0.00026558862001401385,
          0.0002647583935397978,
          0.0002637010922494043,
          0.0002620917492046559,
          0.0002596194420793835,
          0.0002560145978080857,
          0.00025107203219095224,
          0.00024466790343758674,
          0.00023676954211073047,
          0.0002274379316548277,
          0.0002168233210658299,
          0.00020515495937227865,
          0.00019272621218004328,
          0.00017987637584079345,
          0.00016697041554218222,
          0.0001543777143387058,
          0.00014245081908009378,
          0.00013150516099898386,
          0.00012180081765481825,
          0.00011352752107898068,
          0.00010679421778473161,
          0.00010162444975229068,
          0.0000979585680066546,
          0.00009566327194642285,
          0.00009454820902947854,
          0.0000943884559345772,
          0.00009495077182284006,
          0.00009602073346444607,
          0.00009742739449235061,
          0.00009906208476474621,
          0.00010088844496445694,
          0.00010294175926068787,
          0.00010531700347169511,
          0.00010814659229164606,
          0.00011157036177798556,
          0.0001157016216063759,
          0.00012059393721007746,
          0.0001262134958058107,
          0.00013242140241390436,
          0.00013896907837669732,
          0.00014550823877296776,
          0.0001516149402294382,
          0.00015682520811262078,
          0.00016067807533706976,
          0.00016276075922061083,
          0.00016275034810135343,
          0.00016044682693761253,
          0.00015579346929598726,
          0.0001488823683767961,
          0.0001399448902096514,
          0.0001293287888351889,
          0.00011746532778994962,
          0.00010483077957346309,
          0.00009190701020047505,
          0.00007914550831771266,
          0.00006693830891029993,
          0.00005559799163272252,
          0.000045347539977122475,
          0.00003631955540407218,
          0.000028563306117739722,
          0.00002205745607084971,
          0.000016726089626810604,
          0.000012455775681157782,
          0.00000911180878341209,
          0.0000065523088793166544,
          0.000004639443206345079,
          0.0000032475619113844433,
          0.000002268452168102122,
          0.0000016141855369537985,
          0.0000012181596033966631,
          0.0000010349369881625521,
          0.0000010393930405840586,
          0.0000012255316832598223,
          0.0000016051490965857336,
          0.000002206345324408176,
          0.000003071728255288357,
          0.00000425604298752529,
          0.000005822909420004408,
          0.000007840375442511925,
          0.000010375100007890957,
          0.00001348516834321296,
          0.000017211796766484663,
          0.00002157047823865768,
          0.00002654240833284335,
          0.00003206726030033638,
          0.00003803849002235592,
          0.000044302297890371255,
          0.00005066112695638242,
          0.000056882138589540494,
          0.00006271051942190519,
          0.00006788681344411214,
          0.00007216684315974882,
          0.00007534229393539169,
          0.00007725978204535821,
          0.00007783626971969614,
          0.00007706903903384915,
          0.00007503904388737365,
          0.00007190722994108454,
          0.00006790422034931024,
          0.00006331448029401297,
          0.000058456588420658475,
          0.00005366149562933349,
          0.00004925063427974718,
          0.00004551550006097343,
          0.000042699949377686795,
          0.000040986037024612384,
          0.00004048385136905255,
          0.000041225544218255556,
          0.00004316361292822277,
          0.00004617344262814537,
          0.00005006009549420307,
          0.00005456927099786137,
          0.00005940219926826564,
          0.0000642339464102842,
          0.00006873422760275778,
          0.00007258940556722578,
          0.00007552399172683949,
          0.00007731976409205744
         ],
         "yaxis": "y"
        }
       ],
       "layout": {
        "barmode": "overlay",
        "hovermode": "closest",
        "legend": {
         "traceorder": "reversed"
        },
        "template": {
         "data": {
          "bar": [
           {
            "error_x": {
             "color": "#2a3f5f"
            },
            "error_y": {
             "color": "#2a3f5f"
            },
            "marker": {
             "line": {
              "color": "#E5ECF6",
              "width": 0.5
             },
             "pattern": {
              "fillmode": "overlay",
              "size": 10,
              "solidity": 0.2
             }
            },
            "type": "bar"
           }
          ],
          "barpolar": [
           {
            "marker": {
             "line": {
              "color": "#E5ECF6",
              "width": 0.5
             },
             "pattern": {
              "fillmode": "overlay",
              "size": 10,
              "solidity": 0.2
             }
            },
            "type": "barpolar"
           }
          ],
          "carpet": [
           {
            "aaxis": {
             "endlinecolor": "#2a3f5f",
             "gridcolor": "white",
             "linecolor": "white",
             "minorgridcolor": "white",
             "startlinecolor": "#2a3f5f"
            },
            "baxis": {
             "endlinecolor": "#2a3f5f",
             "gridcolor": "white",
             "linecolor": "white",
             "minorgridcolor": "white",
             "startlinecolor": "#2a3f5f"
            },
            "type": "carpet"
           }
          ],
          "choropleth": [
           {
            "colorbar": {
             "outlinewidth": 0,
             "ticks": ""
            },
            "type": "choropleth"
           }
          ],
          "contour": [
           {
            "colorbar": {
             "outlinewidth": 0,
             "ticks": ""
            },
            "colorscale": [
             [
              0,
              "#0d0887"
             ],
             [
              0.1111111111111111,
              "#46039f"
             ],
             [
              0.2222222222222222,
              "#7201a8"
             ],
             [
              0.3333333333333333,
              "#9c179e"
             ],
             [
              0.4444444444444444,
              "#bd3786"
             ],
             [
              0.5555555555555556,
              "#d8576b"
             ],
             [
              0.6666666666666666,
              "#ed7953"
             ],
             [
              0.7777777777777778,
              "#fb9f3a"
             ],
             [
              0.8888888888888888,
              "#fdca26"
             ],
             [
              1,
              "#f0f921"
             ]
            ],
            "type": "contour"
           }
          ],
          "contourcarpet": [
           {
            "colorbar": {
             "outlinewidth": 0,
             "ticks": ""
            },
            "type": "contourcarpet"
           }
          ],
          "heatmap": [
           {
            "colorbar": {
             "outlinewidth": 0,
             "ticks": ""
            },
            "colorscale": [
             [
              0,
              "#0d0887"
             ],
             [
              0.1111111111111111,
              "#46039f"
             ],
             [
              0.2222222222222222,
              "#7201a8"
             ],
             [
              0.3333333333333333,
              "#9c179e"
             ],
             [
              0.4444444444444444,
              "#bd3786"
             ],
             [
              0.5555555555555556,
              "#d8576b"
             ],
             [
              0.6666666666666666,
              "#ed7953"
             ],
             [
              0.7777777777777778,
              "#fb9f3a"
             ],
             [
              0.8888888888888888,
              "#fdca26"
             ],
             [
              1,
              "#f0f921"
             ]
            ],
            "type": "heatmap"
           }
          ],
          "heatmapgl": [
           {
            "colorbar": {
             "outlinewidth": 0,
             "ticks": ""
            },
            "colorscale": [
             [
              0,
              "#0d0887"
             ],
             [
              0.1111111111111111,
              "#46039f"
             ],
             [
              0.2222222222222222,
              "#7201a8"
             ],
             [
              0.3333333333333333,
              "#9c179e"
             ],
             [
              0.4444444444444444,
              "#bd3786"
             ],
             [
              0.5555555555555556,
              "#d8576b"
             ],
             [
              0.6666666666666666,
              "#ed7953"
             ],
             [
              0.7777777777777778,
              "#fb9f3a"
             ],
             [
              0.8888888888888888,
              "#fdca26"
             ],
             [
              1,
              "#f0f921"
             ]
            ],
            "type": "heatmapgl"
           }
          ],
          "histogram": [
           {
            "marker": {
             "pattern": {
              "fillmode": "overlay",
              "size": 10,
              "solidity": 0.2
             }
            },
            "type": "histogram"
           }
          ],
          "histogram2d": [
           {
            "colorbar": {
             "outlinewidth": 0,
             "ticks": ""
            },
            "colorscale": [
             [
              0,
              "#0d0887"
             ],
             [
              0.1111111111111111,
              "#46039f"
             ],
             [
              0.2222222222222222,
              "#7201a8"
             ],
             [
              0.3333333333333333,
              "#9c179e"
             ],
             [
              0.4444444444444444,
              "#bd3786"
             ],
             [
              0.5555555555555556,
              "#d8576b"
             ],
             [
              0.6666666666666666,
              "#ed7953"
             ],
             [
              0.7777777777777778,
              "#fb9f3a"
             ],
             [
              0.8888888888888888,
              "#fdca26"
             ],
             [
              1,
              "#f0f921"
             ]
            ],
            "type": "histogram2d"
           }
          ],
          "histogram2dcontour": [
           {
            "colorbar": {
             "outlinewidth": 0,
             "ticks": ""
            },
            "colorscale": [
             [
              0,
              "#0d0887"
             ],
             [
              0.1111111111111111,
              "#46039f"
             ],
             [
              0.2222222222222222,
              "#7201a8"
             ],
             [
              0.3333333333333333,
              "#9c179e"
             ],
             [
              0.4444444444444444,
              "#bd3786"
             ],
             [
              0.5555555555555556,
              "#d8576b"
             ],
             [
              0.6666666666666666,
              "#ed7953"
             ],
             [
              0.7777777777777778,
              "#fb9f3a"
             ],
             [
              0.8888888888888888,
              "#fdca26"
             ],
             [
              1,
              "#f0f921"
             ]
            ],
            "type": "histogram2dcontour"
           }
          ],
          "mesh3d": [
           {
            "colorbar": {
             "outlinewidth": 0,
             "ticks": ""
            },
            "type": "mesh3d"
           }
          ],
          "parcoords": [
           {
            "line": {
             "colorbar": {
              "outlinewidth": 0,
              "ticks": ""
             }
            },
            "type": "parcoords"
           }
          ],
          "pie": [
           {
            "automargin": true,
            "type": "pie"
           }
          ],
          "scatter": [
           {
            "fillpattern": {
             "fillmode": "overlay",
             "size": 10,
             "solidity": 0.2
            },
            "type": "scatter"
           }
          ],
          "scatter3d": [
           {
            "line": {
             "colorbar": {
              "outlinewidth": 0,
              "ticks": ""
             }
            },
            "marker": {
             "colorbar": {
              "outlinewidth": 0,
              "ticks": ""
             }
            },
            "type": "scatter3d"
           }
          ],
          "scattercarpet": [
           {
            "marker": {
             "colorbar": {
              "outlinewidth": 0,
              "ticks": ""
             }
            },
            "type": "scattercarpet"
           }
          ],
          "scattergeo": [
           {
            "marker": {
             "colorbar": {
              "outlinewidth": 0,
              "ticks": ""
             }
            },
            "type": "scattergeo"
           }
          ],
          "scattergl": [
           {
            "marker": {
             "colorbar": {
              "outlinewidth": 0,
              "ticks": ""
             }
            },
            "type": "scattergl"
           }
          ],
          "scattermapbox": [
           {
            "marker": {
             "colorbar": {
              "outlinewidth": 0,
              "ticks": ""
             }
            },
            "type": "scattermapbox"
           }
          ],
          "scatterpolar": [
           {
            "marker": {
             "colorbar": {
              "outlinewidth": 0,
              "ticks": ""
             }
            },
            "type": "scatterpolar"
           }
          ],
          "scatterpolargl": [
           {
            "marker": {
             "colorbar": {
              "outlinewidth": 0,
              "ticks": ""
             }
            },
            "type": "scatterpolargl"
           }
          ],
          "scatterternary": [
           {
            "marker": {
             "colorbar": {
              "outlinewidth": 0,
              "ticks": ""
             }
            },
            "type": "scatterternary"
           }
          ],
          "surface": [
           {
            "colorbar": {
             "outlinewidth": 0,
             "ticks": ""
            },
            "colorscale": [
             [
              0,
              "#0d0887"
             ],
             [
              0.1111111111111111,
              "#46039f"
             ],
             [
              0.2222222222222222,
              "#7201a8"
             ],
             [
              0.3333333333333333,
              "#9c179e"
             ],
             [
              0.4444444444444444,
              "#bd3786"
             ],
             [
              0.5555555555555556,
              "#d8576b"
             ],
             [
              0.6666666666666666,
              "#ed7953"
             ],
             [
              0.7777777777777778,
              "#fb9f3a"
             ],
             [
              0.8888888888888888,
              "#fdca26"
             ],
             [
              1,
              "#f0f921"
             ]
            ],
            "type": "surface"
           }
          ],
          "table": [
           {
            "cells": {
             "fill": {
              "color": "#EBF0F8"
             },
             "line": {
              "color": "white"
             }
            },
            "header": {
             "fill": {
              "color": "#C8D4E3"
             },
             "line": {
              "color": "white"
             }
            },
            "type": "table"
           }
          ]
         },
         "layout": {
          "annotationdefaults": {
           "arrowcolor": "#2a3f5f",
           "arrowhead": 0,
           "arrowwidth": 1
          },
          "autotypenumbers": "strict",
          "coloraxis": {
           "colorbar": {
            "outlinewidth": 0,
            "ticks": ""
           }
          },
          "colorscale": {
           "diverging": [
            [
             0,
             "#8e0152"
            ],
            [
             0.1,
             "#c51b7d"
            ],
            [
             0.2,
             "#de77ae"
            ],
            [
             0.3,
             "#f1b6da"
            ],
            [
             0.4,
             "#fde0ef"
            ],
            [
             0.5,
             "#f7f7f7"
            ],
            [
             0.6,
             "#e6f5d0"
            ],
            [
             0.7,
             "#b8e186"
            ],
            [
             0.8,
             "#7fbc41"
            ],
            [
             0.9,
             "#4d9221"
            ],
            [
             1,
             "#276419"
            ]
           ],
           "sequential": [
            [
             0,
             "#0d0887"
            ],
            [
             0.1111111111111111,
             "#46039f"
            ],
            [
             0.2222222222222222,
             "#7201a8"
            ],
            [
             0.3333333333333333,
             "#9c179e"
            ],
            [
             0.4444444444444444,
             "#bd3786"
            ],
            [
             0.5555555555555556,
             "#d8576b"
            ],
            [
             0.6666666666666666,
             "#ed7953"
            ],
            [
             0.7777777777777778,
             "#fb9f3a"
            ],
            [
             0.8888888888888888,
             "#fdca26"
            ],
            [
             1,
             "#f0f921"
            ]
           ],
           "sequentialminus": [
            [
             0,
             "#0d0887"
            ],
            [
             0.1111111111111111,
             "#46039f"
            ],
            [
             0.2222222222222222,
             "#7201a8"
            ],
            [
             0.3333333333333333,
             "#9c179e"
            ],
            [
             0.4444444444444444,
             "#bd3786"
            ],
            [
             0.5555555555555556,
             "#d8576b"
            ],
            [
             0.6666666666666666,
             "#ed7953"
            ],
            [
             0.7777777777777778,
             "#fb9f3a"
            ],
            [
             0.8888888888888888,
             "#fdca26"
            ],
            [
             1,
             "#f0f921"
            ]
           ]
          },
          "colorway": [
           "#636efa",
           "#EF553B",
           "#00cc96",
           "#ab63fa",
           "#FFA15A",
           "#19d3f3",
           "#FF6692",
           "#B6E880",
           "#FF97FF",
           "#FECB52"
          ],
          "font": {
           "color": "#2a3f5f"
          },
          "geo": {
           "bgcolor": "white",
           "lakecolor": "white",
           "landcolor": "#E5ECF6",
           "showlakes": true,
           "showland": true,
           "subunitcolor": "white"
          },
          "hoverlabel": {
           "align": "left"
          },
          "hovermode": "closest",
          "mapbox": {
           "style": "light"
          },
          "paper_bgcolor": "white",
          "plot_bgcolor": "#E5ECF6",
          "polar": {
           "angularaxis": {
            "gridcolor": "white",
            "linecolor": "white",
            "ticks": ""
           },
           "bgcolor": "#E5ECF6",
           "radialaxis": {
            "gridcolor": "white",
            "linecolor": "white",
            "ticks": ""
           }
          },
          "scene": {
           "xaxis": {
            "backgroundcolor": "#E5ECF6",
            "gridcolor": "white",
            "gridwidth": 2,
            "linecolor": "white",
            "showbackground": true,
            "ticks": "",
            "zerolinecolor": "white"
           },
           "yaxis": {
            "backgroundcolor": "#E5ECF6",
            "gridcolor": "white",
            "gridwidth": 2,
            "linecolor": "white",
            "showbackground": true,
            "ticks": "",
            "zerolinecolor": "white"
           },
           "zaxis": {
            "backgroundcolor": "#E5ECF6",
            "gridcolor": "white",
            "gridwidth": 2,
            "linecolor": "white",
            "showbackground": true,
            "ticks": "",
            "zerolinecolor": "white"
           }
          },
          "shapedefaults": {
           "line": {
            "color": "#2a3f5f"
           }
          },
          "ternary": {
           "aaxis": {
            "gridcolor": "white",
            "linecolor": "white",
            "ticks": ""
           },
           "baxis": {
            "gridcolor": "white",
            "linecolor": "white",
            "ticks": ""
           },
           "bgcolor": "#E5ECF6",
           "caxis": {
            "gridcolor": "white",
            "linecolor": "white",
            "ticks": ""
           }
          },
          "title": {
           "x": 0.05
          },
          "xaxis": {
           "automargin": true,
           "gridcolor": "white",
           "linecolor": "white",
           "ticks": "",
           "title": {
            "standoff": 15
           },
           "zerolinecolor": "white",
           "zerolinewidth": 2
          },
          "yaxis": {
           "automargin": true,
           "gridcolor": "white",
           "linecolor": "white",
           "ticks": "",
           "title": {
            "standoff": 15
           },
           "zerolinecolor": "white",
           "zerolinewidth": 2
          }
         }
        },
        "xaxis": {
         "anchor": "y2",
         "domain": [
          0,
          1
         ],
         "zeroline": false
        },
        "yaxis": {
         "anchor": "free",
         "domain": [
          0,
          1
         ],
         "position": 0
        }
       }
      }
     },
     "metadata": {},
     "output_type": "display_data"
    }
   ],
   "source": [
    "fig = ff.create_distplot([x1,x2,x3,x4],['Overall Age', 'Gold Medalist', 'Silver Medalist','Bronze Medalist'],show_hist=False,show_rug=False)\n",
    "fig.show()"
   ]
  }
 ],
 "metadata": {
  "kernelspec": {
   "display_name": "venv",
   "language": "python",
   "name": "python3"
  },
  "language_info": {
   "codemirror_mode": {
    "name": "ipython",
    "version": 3
   },
   "file_extension": ".py",
   "mimetype": "text/x-python",
   "name": "python",
   "nbconvert_exporter": "python",
   "pygments_lexer": "ipython3",
   "version": "3.12.4"
  }
 },
 "nbformat": 4,
 "nbformat_minor": 2
}
